{
  "nbformat": 4,
  "nbformat_minor": 0,
  "metadata": {
    "colab": {
      "provenance": [],
      "gpuType": "T4"
    },
    "kernelspec": {
      "name": "python3",
      "display_name": "Python 3"
    },
    "language_info": {
      "name": "python"
    },
    "widgets": {
      "application/vnd.jupyter.widget-state+json": {
        "9dffc33636c0423baa19ea90aa191499": {
          "model_module": "@jupyter-widgets/controls",
          "model_name": "HBoxModel",
          "model_module_version": "1.5.0",
          "state": {
            "_dom_classes": [],
            "_model_module": "@jupyter-widgets/controls",
            "_model_module_version": "1.5.0",
            "_model_name": "HBoxModel",
            "_view_count": null,
            "_view_module": "@jupyter-widgets/controls",
            "_view_module_version": "1.5.0",
            "_view_name": "HBoxView",
            "box_style": "",
            "children": [
              "IPY_MODEL_e73b26033f214ae792fb86ccea4af77b",
              "IPY_MODEL_126c860762444550802ceb0988e04c57",
              "IPY_MODEL_c092ec9d201c4f2ca0ba73f047437202"
            ],
            "layout": "IPY_MODEL_39d1e3d530c9496fb5337e1c71976722"
          }
        },
        "e73b26033f214ae792fb86ccea4af77b": {
          "model_module": "@jupyter-widgets/controls",
          "model_name": "HTMLModel",
          "model_module_version": "1.5.0",
          "state": {
            "_dom_classes": [],
            "_model_module": "@jupyter-widgets/controls",
            "_model_module_version": "1.5.0",
            "_model_name": "HTMLModel",
            "_view_count": null,
            "_view_module": "@jupyter-widgets/controls",
            "_view_module_version": "1.5.0",
            "_view_name": "HTMLView",
            "description": "",
            "description_tooltip": null,
            "layout": "IPY_MODEL_4d1615ab9b214f66bbca4cc1cd1c749a",
            "placeholder": "​",
            "style": "IPY_MODEL_04646a2b66bd4623b577641fdcb99641",
            "value": "Epoch: 100%"
          }
        },
        "126c860762444550802ceb0988e04c57": {
          "model_module": "@jupyter-widgets/controls",
          "model_name": "FloatProgressModel",
          "model_module_version": "1.5.0",
          "state": {
            "_dom_classes": [],
            "_model_module": "@jupyter-widgets/controls",
            "_model_module_version": "1.5.0",
            "_model_name": "FloatProgressModel",
            "_view_count": null,
            "_view_module": "@jupyter-widgets/controls",
            "_view_module_version": "1.5.0",
            "_view_name": "ProgressView",
            "bar_style": "success",
            "description": "",
            "description_tooltip": null,
            "layout": "IPY_MODEL_1bad8a9af33240dd8a9c728e239d8d25",
            "max": 25,
            "min": 0,
            "orientation": "horizontal",
            "style": "IPY_MODEL_8caf57f6b3454528ba78a353fba3f0af",
            "value": 25
          }
        },
        "c092ec9d201c4f2ca0ba73f047437202": {
          "model_module": "@jupyter-widgets/controls",
          "model_name": "HTMLModel",
          "model_module_version": "1.5.0",
          "state": {
            "_dom_classes": [],
            "_model_module": "@jupyter-widgets/controls",
            "_model_module_version": "1.5.0",
            "_model_name": "HTMLModel",
            "_view_count": null,
            "_view_module": "@jupyter-widgets/controls",
            "_view_module_version": "1.5.0",
            "_view_name": "HTMLView",
            "description": "",
            "description_tooltip": null,
            "layout": "IPY_MODEL_cd6b2fb3252f40bb8ff436a9c770a89d",
            "placeholder": "​",
            "style": "IPY_MODEL_7eb1bc7bc443410f8c73027cb64d6d88",
            "value": " 25/25 [23:05&lt;00:00, 54.89s/epoch]"
          }
        },
        "39d1e3d530c9496fb5337e1c71976722": {
          "model_module": "@jupyter-widgets/base",
          "model_name": "LayoutModel",
          "model_module_version": "1.2.0",
          "state": {
            "_model_module": "@jupyter-widgets/base",
            "_model_module_version": "1.2.0",
            "_model_name": "LayoutModel",
            "_view_count": null,
            "_view_module": "@jupyter-widgets/base",
            "_view_module_version": "1.2.0",
            "_view_name": "LayoutView",
            "align_content": null,
            "align_items": null,
            "align_self": null,
            "border": null,
            "bottom": null,
            "display": null,
            "flex": null,
            "flex_flow": null,
            "grid_area": null,
            "grid_auto_columns": null,
            "grid_auto_flow": null,
            "grid_auto_rows": null,
            "grid_column": null,
            "grid_gap": null,
            "grid_row": null,
            "grid_template_areas": null,
            "grid_template_columns": null,
            "grid_template_rows": null,
            "height": null,
            "justify_content": null,
            "justify_items": null,
            "left": null,
            "margin": null,
            "max_height": null,
            "max_width": null,
            "min_height": null,
            "min_width": null,
            "object_fit": null,
            "object_position": null,
            "order": null,
            "overflow": null,
            "overflow_x": null,
            "overflow_y": null,
            "padding": null,
            "right": null,
            "top": null,
            "visibility": null,
            "width": null
          }
        },
        "4d1615ab9b214f66bbca4cc1cd1c749a": {
          "model_module": "@jupyter-widgets/base",
          "model_name": "LayoutModel",
          "model_module_version": "1.2.0",
          "state": {
            "_model_module": "@jupyter-widgets/base",
            "_model_module_version": "1.2.0",
            "_model_name": "LayoutModel",
            "_view_count": null,
            "_view_module": "@jupyter-widgets/base",
            "_view_module_version": "1.2.0",
            "_view_name": "LayoutView",
            "align_content": null,
            "align_items": null,
            "align_self": null,
            "border": null,
            "bottom": null,
            "display": null,
            "flex": null,
            "flex_flow": null,
            "grid_area": null,
            "grid_auto_columns": null,
            "grid_auto_flow": null,
            "grid_auto_rows": null,
            "grid_column": null,
            "grid_gap": null,
            "grid_row": null,
            "grid_template_areas": null,
            "grid_template_columns": null,
            "grid_template_rows": null,
            "height": null,
            "justify_content": null,
            "justify_items": null,
            "left": null,
            "margin": null,
            "max_height": null,
            "max_width": null,
            "min_height": null,
            "min_width": null,
            "object_fit": null,
            "object_position": null,
            "order": null,
            "overflow": null,
            "overflow_x": null,
            "overflow_y": null,
            "padding": null,
            "right": null,
            "top": null,
            "visibility": null,
            "width": null
          }
        },
        "04646a2b66bd4623b577641fdcb99641": {
          "model_module": "@jupyter-widgets/controls",
          "model_name": "DescriptionStyleModel",
          "model_module_version": "1.5.0",
          "state": {
            "_model_module": "@jupyter-widgets/controls",
            "_model_module_version": "1.5.0",
            "_model_name": "DescriptionStyleModel",
            "_view_count": null,
            "_view_module": "@jupyter-widgets/base",
            "_view_module_version": "1.2.0",
            "_view_name": "StyleView",
            "description_width": ""
          }
        },
        "1bad8a9af33240dd8a9c728e239d8d25": {
          "model_module": "@jupyter-widgets/base",
          "model_name": "LayoutModel",
          "model_module_version": "1.2.0",
          "state": {
            "_model_module": "@jupyter-widgets/base",
            "_model_module_version": "1.2.0",
            "_model_name": "LayoutModel",
            "_view_count": null,
            "_view_module": "@jupyter-widgets/base",
            "_view_module_version": "1.2.0",
            "_view_name": "LayoutView",
            "align_content": null,
            "align_items": null,
            "align_self": null,
            "border": null,
            "bottom": null,
            "display": null,
            "flex": null,
            "flex_flow": null,
            "grid_area": null,
            "grid_auto_columns": null,
            "grid_auto_flow": null,
            "grid_auto_rows": null,
            "grid_column": null,
            "grid_gap": null,
            "grid_row": null,
            "grid_template_areas": null,
            "grid_template_columns": null,
            "grid_template_rows": null,
            "height": null,
            "justify_content": null,
            "justify_items": null,
            "left": null,
            "margin": null,
            "max_height": null,
            "max_width": null,
            "min_height": null,
            "min_width": null,
            "object_fit": null,
            "object_position": null,
            "order": null,
            "overflow": null,
            "overflow_x": null,
            "overflow_y": null,
            "padding": null,
            "right": null,
            "top": null,
            "visibility": null,
            "width": null
          }
        },
        "8caf57f6b3454528ba78a353fba3f0af": {
          "model_module": "@jupyter-widgets/controls",
          "model_name": "ProgressStyleModel",
          "model_module_version": "1.5.0",
          "state": {
            "_model_module": "@jupyter-widgets/controls",
            "_model_module_version": "1.5.0",
            "_model_name": "ProgressStyleModel",
            "_view_count": null,
            "_view_module": "@jupyter-widgets/base",
            "_view_module_version": "1.2.0",
            "_view_name": "StyleView",
            "bar_color": null,
            "description_width": ""
          }
        },
        "cd6b2fb3252f40bb8ff436a9c770a89d": {
          "model_module": "@jupyter-widgets/base",
          "model_name": "LayoutModel",
          "model_module_version": "1.2.0",
          "state": {
            "_model_module": "@jupyter-widgets/base",
            "_model_module_version": "1.2.0",
            "_model_name": "LayoutModel",
            "_view_count": null,
            "_view_module": "@jupyter-widgets/base",
            "_view_module_version": "1.2.0",
            "_view_name": "LayoutView",
            "align_content": null,
            "align_items": null,
            "align_self": null,
            "border": null,
            "bottom": null,
            "display": null,
            "flex": null,
            "flex_flow": null,
            "grid_area": null,
            "grid_auto_columns": null,
            "grid_auto_flow": null,
            "grid_auto_rows": null,
            "grid_column": null,
            "grid_gap": null,
            "grid_row": null,
            "grid_template_areas": null,
            "grid_template_columns": null,
            "grid_template_rows": null,
            "height": null,
            "justify_content": null,
            "justify_items": null,
            "left": null,
            "margin": null,
            "max_height": null,
            "max_width": null,
            "min_height": null,
            "min_width": null,
            "object_fit": null,
            "object_position": null,
            "order": null,
            "overflow": null,
            "overflow_x": null,
            "overflow_y": null,
            "padding": null,
            "right": null,
            "top": null,
            "visibility": null,
            "width": null
          }
        },
        "7eb1bc7bc443410f8c73027cb64d6d88": {
          "model_module": "@jupyter-widgets/controls",
          "model_name": "DescriptionStyleModel",
          "model_module_version": "1.5.0",
          "state": {
            "_model_module": "@jupyter-widgets/controls",
            "_model_module_version": "1.5.0",
            "_model_name": "DescriptionStyleModel",
            "_view_count": null,
            "_view_module": "@jupyter-widgets/base",
            "_view_module_version": "1.2.0",
            "_view_name": "StyleView",
            "description_width": ""
          }
        }
      }
    },
    "accelerator": "GPU"
  },
  "cells": [
    {
      "cell_type": "code",
      "source": [
        "!pip install torch torchvision torchaudio"
      ],
      "metadata": {
        "colab": {
          "base_uri": "https://localhost:8080/"
        },
        "id": "9AaSImenFc8M",
        "outputId": "6b432c96-845a-4ab4-dd1a-5ef9182c136d"
      },
      "execution_count": 11,
      "outputs": [
        {
          "output_type": "stream",
          "name": "stdout",
          "text": [
            "Requirement already satisfied: torch in /usr/local/lib/python3.10/dist-packages (2.4.1+cu121)\n",
            "Requirement already satisfied: torchvision in /usr/local/lib/python3.10/dist-packages (0.19.1+cu121)\n",
            "Requirement already satisfied: torchaudio in /usr/local/lib/python3.10/dist-packages (2.4.1+cu121)\n",
            "Requirement already satisfied: filelock in /usr/local/lib/python3.10/dist-packages (from torch) (3.16.1)\n",
            "Requirement already satisfied: typing-extensions>=4.8.0 in /usr/local/lib/python3.10/dist-packages (from torch) (4.12.2)\n",
            "Requirement already satisfied: sympy in /usr/local/lib/python3.10/dist-packages (from torch) (1.13.3)\n",
            "Requirement already satisfied: networkx in /usr/local/lib/python3.10/dist-packages (from torch) (3.4)\n",
            "Requirement already satisfied: jinja2 in /usr/local/lib/python3.10/dist-packages (from torch) (3.1.4)\n",
            "Requirement already satisfied: fsspec in /usr/local/lib/python3.10/dist-packages (from torch) (2024.6.1)\n",
            "Requirement already satisfied: numpy in /usr/local/lib/python3.10/dist-packages (from torchvision) (1.26.4)\n",
            "Requirement already satisfied: pillow!=8.3.*,>=5.3.0 in /usr/local/lib/python3.10/dist-packages (from torchvision) (10.4.0)\n",
            "Requirement already satisfied: MarkupSafe>=2.0 in /usr/local/lib/python3.10/dist-packages (from jinja2->torch) (3.0.1)\n",
            "Requirement already satisfied: mpmath<1.4,>=1.1.0 in /usr/local/lib/python3.10/dist-packages (from sympy->torch) (1.3.0)\n"
          ]
        }
      ]
    },
    {
      "cell_type": "code",
      "source": [
        "!pip install opacus"
      ],
      "metadata": {
        "colab": {
          "base_uri": "https://localhost:8080/"
        },
        "id": "YQAolC_XFh-i",
        "outputId": "6b29ac63-7424-4f6e-fcf8-dcdae8a995c4"
      },
      "execution_count": 12,
      "outputs": [
        {
          "output_type": "stream",
          "name": "stdout",
          "text": [
            "Collecting opacus\n",
            "  Downloading opacus-1.5.2-py3-none-any.whl.metadata (7.9 kB)\n",
            "Requirement already satisfied: numpy<2.0,>=1.15 in /usr/local/lib/python3.10/dist-packages (from opacus) (1.26.4)\n",
            "Requirement already satisfied: torch>=2.0 in /usr/local/lib/python3.10/dist-packages (from opacus) (2.4.1+cu121)\n",
            "Requirement already satisfied: scipy>=1.2 in /usr/local/lib/python3.10/dist-packages (from opacus) (1.13.1)\n",
            "Requirement already satisfied: opt-einsum>=3.3.0 in /usr/local/lib/python3.10/dist-packages (from opacus) (3.4.0)\n",
            "Requirement already satisfied: filelock in /usr/local/lib/python3.10/dist-packages (from torch>=2.0->opacus) (3.16.1)\n",
            "Requirement already satisfied: typing-extensions>=4.8.0 in /usr/local/lib/python3.10/dist-packages (from torch>=2.0->opacus) (4.12.2)\n",
            "Requirement already satisfied: sympy in /usr/local/lib/python3.10/dist-packages (from torch>=2.0->opacus) (1.13.3)\n",
            "Requirement already satisfied: networkx in /usr/local/lib/python3.10/dist-packages (from torch>=2.0->opacus) (3.4)\n",
            "Requirement already satisfied: jinja2 in /usr/local/lib/python3.10/dist-packages (from torch>=2.0->opacus) (3.1.4)\n",
            "Requirement already satisfied: fsspec in /usr/local/lib/python3.10/dist-packages (from torch>=2.0->opacus) (2024.6.1)\n",
            "Requirement already satisfied: MarkupSafe>=2.0 in /usr/local/lib/python3.10/dist-packages (from jinja2->torch>=2.0->opacus) (3.0.1)\n",
            "Requirement already satisfied: mpmath<1.4,>=1.1.0 in /usr/local/lib/python3.10/dist-packages (from sympy->torch>=2.0->opacus) (1.3.0)\n",
            "Downloading opacus-1.5.2-py3-none-any.whl (239 kB)\n",
            "\u001b[?25l   \u001b[90m━━━━━━━━━━━━━━━━━━━━━━━━━━━━━━━━━━━━━━━━\u001b[0m \u001b[32m0.0/239.9 kB\u001b[0m \u001b[31m?\u001b[0m eta \u001b[36m-:--:--\u001b[0m\r\u001b[2K   \u001b[90m━━━━━━━━━━━━━━━━━━━━━━━━━━━━━━━━━━━━━━━━\u001b[0m \u001b[32m239.9/239.9 kB\u001b[0m \u001b[31m14.7 MB/s\u001b[0m eta \u001b[36m0:00:00\u001b[0m\n",
            "\u001b[?25hInstalling collected packages: opacus\n",
            "Successfully installed opacus-1.5.2\n"
          ]
        }
      ]
    },
    {
      "cell_type": "code",
      "execution_count": 32,
      "metadata": {
        "id": "OXx2SksCFVXv"
      },
      "outputs": [],
      "source": [
        "import warnings\n",
        "warnings.simplefilter(\"ignore\")\n",
        "\n",
        "#MAX_GRAD_NORM = 1.2\n",
        "EPSILON = 3.0\n",
        "DELTA = 1e-5\n",
        "EPOCHS = 25\n",
        "\n",
        "#Adaptive Clipping\n",
        "initial_clip_norm = 1.0\n",
        "eta_C = 0.2  # Learning rate for updating the clipping norm\n",
        "target_quantile = 0.5  # Target quantile, e.g., 0.5 for the median\n",
        "\n",
        "LR = 0.5"
      ]
    },
    {
      "cell_type": "code",
      "source": [
        "BATCH_SIZE = 2048\n",
        "MAX_PHYSICAL_BATCH_SIZE = 128"
      ],
      "metadata": {
        "id": "-pcI3wYLFnoW"
      },
      "execution_count": 33,
      "outputs": []
    },
    {
      "cell_type": "code",
      "source": [
        "import torch\n",
        "import torchvision\n",
        "import torchvision.transforms as transforms\n",
        "\n",
        "# These values, specific to the CIFAR10 dataset, are assumed to be known.\n",
        "# If necessary, they can be computed with modest privacy budgets.\n",
        "CIFAR10_MEAN = (0.4914, 0.4822, 0.4465)\n",
        "CIFAR10_STD_DEV = (0.2023, 0.1994, 0.2010)\n",
        "\n",
        "transform = transforms.Compose([\n",
        "    transforms.ToTensor(),\n",
        "    transforms.Normalize(CIFAR10_MEAN, CIFAR10_STD_DEV),\n",
        "])"
      ],
      "metadata": {
        "id": "PBbPBCZGFpb-"
      },
      "execution_count": 34,
      "outputs": []
    },
    {
      "cell_type": "code",
      "source": [
        "from torchvision.datasets import CIFAR10\n",
        "\n",
        "DATA_ROOT = '../cifar10'\n",
        "\n",
        "train_dataset = CIFAR10(\n",
        "    root=DATA_ROOT, train=True, download=True, transform=transform)\n",
        "\n",
        "train_loader = torch.utils.data.DataLoader(\n",
        "    train_dataset,\n",
        "    batch_size=BATCH_SIZE,\n",
        ")\n",
        "\n",
        "test_dataset = CIFAR10(\n",
        "    root=DATA_ROOT, train=False, download=True, transform=transform)\n",
        "\n",
        "test_loader = torch.utils.data.DataLoader(\n",
        "    test_dataset,\n",
        "    batch_size=BATCH_SIZE,\n",
        "    shuffle=False,\n",
        ")"
      ],
      "metadata": {
        "colab": {
          "base_uri": "https://localhost:8080/"
        },
        "id": "ycYpgyoVFs1T",
        "outputId": "4bb61907-8999-4e7e-e1bc-d4c3a55ec4a7"
      },
      "execution_count": 35,
      "outputs": [
        {
          "output_type": "stream",
          "name": "stdout",
          "text": [
            "Files already downloaded and verified\n",
            "Files already downloaded and verified\n"
          ]
        }
      ]
    },
    {
      "cell_type": "markdown",
      "source": [
        "### **ResNet-n from torch**"
      ],
      "metadata": {
        "id": "Drv5qY6OKqjk"
      }
    },
    {
      "cell_type": "code",
      "source": [
        "from torchvision import models"
      ],
      "metadata": {
        "id": "UeAejaeyFvJR"
      },
      "execution_count": 36,
      "outputs": []
    },
    {
      "cell_type": "markdown",
      "source": [
        "### **ResNet20 (with Adaptive Clipping)**"
      ],
      "metadata": {
        "id": "lYm-LBfyKdIG"
      }
    },
    {
      "cell_type": "code",
      "source": [
        "import torch\n",
        "import torch.nn as nn\n",
        "import torch.nn.functional as F"
      ],
      "metadata": {
        "id": "rWZ9TeOnJcd6"
      },
      "execution_count": 37,
      "outputs": []
    },
    {
      "cell_type": "code",
      "source": [
        "class WSConv2d(nn.Conv2d):\n",
        "    def forward(self, x):\n",
        "        # Weight standardization\n",
        "        mean = self.weight.mean(dim=[1, 2, 3], keepdim=True)\n",
        "        std = self.weight.std(dim=[1, 2, 3], keepdim=True)\n",
        "        weight_standardized = (self.weight - mean) / (std + 1e-5)\n",
        "\n",
        "        return F.conv2d(x, weight_standardized, self.bias, self.stride,\n",
        "                        self.padding, self.dilation, self.groups)\n",
        "\n",
        "class BasicBlock(nn.Module):\n",
        "    def __init__(self, in_channels, out_channels, stride=1, num_groups=32):\n",
        "        super(BasicBlock, self).__init__()\n",
        "        #self.conv1 = nn.Conv2d(in_channels, out_channels, kernel_size=3, stride=stride, padding=1, bias=False) #First convolutional layer\n",
        "        self.conv1 = WSConv2d(in_channels, out_channels, kernel_size=3, stride=stride, padding=1, bias=False) #First weight-standardized convolutional layer\n",
        "        self.gn1 = nn.GroupNorm(num_groups, out_channels)  #GroupNorm for DP compatability\n",
        "\n",
        "        #self.conv2 = nn.Conv2d(out_channels, out_channels, kernel_size=3, stride=1, padding=1, bias=False)  #Second convolutional layer\n",
        "        self.conv2 = WSConv2d(out_channels, out_channels, kernel_size=3, stride=1, padding=1, bias=False) #Second weight-standardized convolutional layer\n",
        "        self.gn2 = nn.GroupNorm(num_groups, out_channels)  #GroupNorm for DP compatability\n",
        "        # Skip connection\n",
        "        self.shortcut = nn.Sequential()\n",
        "        if stride != 1 or in_channels != out_channels:\n",
        "            self.shortcut = nn.Sequential(\n",
        "                #nn.Conv2d(in_channels, out_channels, kernel_size=1, stride=stride, bias=False),\n",
        "                WSConv2d(in_channels, out_channels, kernel_size=1, stride=stride, bias=False),\n",
        "                nn.GroupNorm(num_groups, out_channels)  #GroupNorm for DP compatability\n",
        "            )\n",
        "\n",
        "    def forward(self, x):\n",
        "        out = F.relu(self.gn1(self.conv1(x)))\n",
        "        out = self.gn2(self.conv2(out))\n",
        "        out += self.shortcut(x)\n",
        "        out = F.relu(out)\n",
        "        return out\n",
        "\n",
        "class ResNet20(nn.Module):\n",
        "    def __init__(self, num_classes=10, num_groups=32):\n",
        "        super(ResNet20, self).__init__()\n",
        "        self.in_channels = 16\n",
        "        #Initial convolutional layer\n",
        "        #self.conv1 = nn.Conv2d(3, self.in_channels, kernel_size=3, stride=1, padding=1, bias=False)\n",
        "        self.conv1 = WSConv2d(3, self.in_channels, kernel_size=3, stride=1, padding=1, bias=False)\n",
        "        self.gn1 = nn.GroupNorm(num_groups, self.in_channels)  #GroupNorm for DP compatability\n",
        "        # Residual blocks\n",
        "        self.layer1 = self._make_layer(16, 3, stride=1, num_groups=4)   # 4 groups for 16 channels\n",
        "        self.layer2 = self._make_layer(32, 3, stride=2, num_groups=8)   # 8 groups for 32 channels\n",
        "        self.layer3 = self._make_layer(64, 3, stride=2, num_groups=16)  # 16 groups for 64 channels\n",
        "        # Fully connected layer\n",
        "        self.fc = nn.Linear(64, num_classes)\n",
        "\n",
        "    def _make_layer(self, out_channels, num_blocks, stride, num_groups):\n",
        "        layers = []\n",
        "        for _ in range(num_blocks):\n",
        "            layers.append(BasicBlock(self.in_channels, out_channels, stride, num_groups=num_groups))\n",
        "            self.in_channels = out_channels\n",
        "            stride = 1  #Only the first block in each layer has a stride of 1\n",
        "        return nn.Sequential(*layers)\n",
        "\n",
        "    def forward(self, x):\n",
        "        out = F.relu(self.gn1(self.conv1(x)))\n",
        "        out = self.layer1(out)\n",
        "        out = self.layer2(out)\n",
        "        out = self.layer3(out)\n",
        "        out = F.avg_pool2d(out, 8)\n",
        "        out = out.view(out.size(0), -1)\n",
        "        out = self.fc(out)\n",
        "        return out\n",
        "\n",
        "    #Adaptive Clipping\n",
        "    def calculate_avg_grad_norm(model):\n",
        "        total_norm = 0.0\n",
        "        total_params = 0\n",
        "        for p in model.parameters():\n",
        "            if p.grad is not None:\n",
        "                param_norm = p.grad.data.norm(2).item()\n",
        "                total_norm += param_norm ** 2\n",
        "                total_params += 1\n",
        "        avg_grad_norm = (total_norm / total_params) ** 0.5\n",
        "        return avg_grad_norm\n",
        "\n",
        "    #Grouped Gradient Clipping\n",
        "    '''\n",
        "    def clip_gradients_by_group(model, max_grad_norms):\n",
        "        \"\"\"Clip gradients by group of layers, based on the provided max_grad_norms list.\"\"\"\n",
        "        group_gradients = [[], []]  # Adjust the number of groups as necessary\n",
        "\n",
        "        # Group 1: Convolutional layers\n",
        "        group_gradients[0].extend([p for name, p in model.named_parameters() if 'conv' in name])\n",
        "\n",
        "        # Group 2: Fully connected layers\n",
        "        group_gradients[1].extend([p for name, p in model.named_parameters() if 'fc' in name])\n",
        "\n",
        "        # Clip gradients per group\n",
        "        for group, max_norm in zip(group_gradients, max_grad_norms):\n",
        "            total_norm = torch.norm(torch.stack([torch.norm(p.grad) for p in group if p.grad is not None]), 2)\n",
        "            clip_coef = max_norm / (total_norm + 1e-6)\n",
        "            if clip_coef < 1:\n",
        "                for p in group:\n",
        "                    if p.grad is not None:\n",
        "                        p.grad.mul_(clip_coef)\n",
        "    '''"
      ],
      "metadata": {
        "id": "rhpRnIcOL80C"
      },
      "execution_count": 38,
      "outputs": []
    },
    {
      "cell_type": "markdown",
      "source": [
        "### Model Assignment"
      ],
      "metadata": {
        "id": "DvtegZm1XY3F"
      }
    },
    {
      "cell_type": "code",
      "source": [
        "#model = models.resnet18(num_classes=10)\n",
        "model = ResNet20(num_classes=10, num_groups=4)"
      ],
      "metadata": {
        "id": "Rd7j9ehaK0yh"
      },
      "execution_count": 39,
      "outputs": []
    },
    {
      "cell_type": "code",
      "source": [
        "from opacus.validators import ModuleValidator\n",
        "\n",
        "errors = ModuleValidator.validate(model, strict=False)\n",
        "errors[-5:]"
      ],
      "metadata": {
        "colab": {
          "base_uri": "https://localhost:8080/"
        },
        "id": "Kmb1UL1OFycC",
        "outputId": "d6ec7a2e-c5b8-4b21-b6ad-31d815eb2aee"
      },
      "execution_count": 40,
      "outputs": [
        {
          "output_type": "execute_result",
          "data": {
            "text/plain": [
              "[]"
            ]
          },
          "metadata": {},
          "execution_count": 40
        }
      ]
    },
    {
      "cell_type": "code",
      "source": [
        "model = ModuleValidator.fix(model)\n",
        "ModuleValidator.validate(model, strict=False)"
      ],
      "metadata": {
        "colab": {
          "base_uri": "https://localhost:8080/"
        },
        "id": "CORRbNMzF3GO",
        "outputId": "3697899c-0b8c-448a-8a63-0c79a0bad10e"
      },
      "execution_count": 41,
      "outputs": [
        {
          "output_type": "execute_result",
          "data": {
            "text/plain": [
              "[]"
            ]
          },
          "metadata": {},
          "execution_count": 41
        }
      ]
    },
    {
      "cell_type": "code",
      "source": [
        "device = torch.device(\"cuda\" if torch.cuda.is_available() else \"cpu\")\n",
        "\n",
        "model = model.to(device)"
      ],
      "metadata": {
        "id": "2aiLjxaJF7NM"
      },
      "execution_count": 42,
      "outputs": []
    },
    {
      "cell_type": "code",
      "source": [
        "import torch.nn as nn\n",
        "import torch.optim as optim\n",
        "\n",
        "criterion = nn.CrossEntropyLoss()\n",
        "optimizer = optim.SGD(model.parameters(), lr=LR, momentum=0.9)"
      ],
      "metadata": {
        "id": "MPyD5vJiF8nJ"
      },
      "execution_count": 43,
      "outputs": []
    },
    {
      "cell_type": "code",
      "source": [
        "def accuracy(preds, labels):\n",
        "    return (preds == labels).mean()"
      ],
      "metadata": {
        "id": "uBBTGgtvF_wA"
      },
      "execution_count": 44,
      "outputs": []
    },
    {
      "cell_type": "code",
      "source": [
        "from opacus import PrivacyEngine\n",
        "\n",
        "privacy_engine = PrivacyEngine()\n",
        "\n",
        "model, optimizer, train_loader = privacy_engine.make_private_with_epsilon(\n",
        "    module=model,\n",
        "    optimizer=optimizer,\n",
        "    data_loader=train_loader,\n",
        "    epochs=EPOCHS,\n",
        "    target_epsilon=EPSILON,\n",
        "    target_delta=DELTA,\n",
        "    max_grad_norm=1.0,  #Starting with grad norm as 1 and adjusting it during training according to the specific quantile of the gradient norm distribution\n",
        ")\n",
        "\n",
        "print(f\"Using sigma={optimizer.noise_multiplier} and C=1.0\")"
      ],
      "metadata": {
        "colab": {
          "base_uri": "https://localhost:8080/"
        },
        "id": "1Sfq362zGDvM",
        "outputId": "d78bac58-def4-4bc2-9e23-80c50b68b701"
      },
      "execution_count": 45,
      "outputs": [
        {
          "output_type": "stream",
          "name": "stdout",
          "text": [
            "Using sigma=1.61376953125 and C=1.0\n"
          ]
        }
      ]
    },
    {
      "cell_type": "code",
      "source": [
        "def adaptive_clipping(grad_norms, clip_norm, target_quantile, eta_C):   #Adjusts the clipping norm using geometric updates to match a target quantile.\n",
        "    #Calculate the fraction of gradients below the current clip norm\n",
        "    clipped_fraction = np.mean(grad_norms <= clip_norm)\n",
        "\n",
        "    #Update the clipping norm\n",
        "    new_clip_norm = clip_norm * np.exp(-eta_C * (clipped_fraction - target_quantile))\n",
        "    return new_clip_norm\n",
        "\n",
        "def calculate_grad_norms(model):    #Calculates the L2 norm of gradients for each parameter in the model.\n",
        "    grad_norms = []\n",
        "    for p in model.parameters():\n",
        "        if p.grad is not None:\n",
        "            grad_norms.append(p.grad.data.norm(2).item())\n",
        "    return np.array(grad_norms)"
      ],
      "metadata": {
        "id": "sOOFvY06jHDb"
      },
      "execution_count": 46,
      "outputs": []
    },
    {
      "cell_type": "code",
      "source": [
        "import numpy as np\n",
        "from opacus.utils.batch_memory_manager import BatchMemoryManager\n",
        "\n",
        "def train(model, train_loader, optimizer, epoch, device):\n",
        "    model.train()\n",
        "    criterion = nn.CrossEntropyLoss()\n",
        "\n",
        "    losses = []\n",
        "    top1_acc = []\n",
        "    clip_norm = initial_clip_norm  #Start with an initial clip norm\n",
        "\n",
        "    with BatchMemoryManager(\n",
        "        data_loader=train_loader,\n",
        "        max_physical_batch_size=MAX_PHYSICAL_BATCH_SIZE,\n",
        "        optimizer=optimizer\n",
        "    ) as memory_safe_data_loader:\n",
        "\n",
        "        for i, (images, target) in enumerate(memory_safe_data_loader):\n",
        "            optimizer.zero_grad()\n",
        "            images = images.to(device)\n",
        "            target = target.to(device)\n",
        "\n",
        "            #compute output\n",
        "            output = model(images)\n",
        "            loss = criterion(output, target)\n",
        "\n",
        "            preds = np.argmax(output.detach().cpu().numpy(), axis=1)\n",
        "            labels = target.detach().cpu().numpy()\n",
        "\n",
        "            #measure accuracy and record loss\n",
        "            acc = accuracy(preds, labels)\n",
        "\n",
        "            losses.append(loss.item())\n",
        "            top1_acc.append(acc)\n",
        "\n",
        "            loss.backward()\n",
        "\n",
        "            #Adaptive Clipping\n",
        "            #Calculate gradient norms for the current batch\n",
        "            grad_norms = calculate_grad_norms(model)\n",
        "            #Update the clipping norm based on gradient norms\n",
        "            clip_norm = adaptive_clipping(grad_norms, clip_norm, target_quantile, eta_C)\n",
        "            #Clip gradients to the updated norm\n",
        "            torch.nn.utils.clip_grad_norm_(model.parameters(), clip_norm)\n",
        "\n",
        "            #Grouped Gradient Clipping\n",
        "            '''\n",
        "            clip_gradients_by_group(model, grouped_clipping_norms)\n",
        "            '''\n",
        "\n",
        "            optimizer.step()\n",
        "\n",
        "            if (i+1) % 200 == 0:\n",
        "                epsilon = privacy_engine.get_epsilon(DELTA)\n",
        "                print(\n",
        "                    f\"\\tTrain Epoch: {epoch} \\t\"\n",
        "                    f\"Loss: {np.mean(losses):.6f} \"\n",
        "                    f\"Acc@1: {np.mean(top1_acc) * 100:.6f} \"\n",
        "                    f\"(ε = {epsilon:.2f}, δ = {DELTA})\"\n",
        "                )"
      ],
      "metadata": {
        "id": "pwnw-AeZGEfw"
      },
      "execution_count": 47,
      "outputs": []
    },
    {
      "cell_type": "code",
      "source": [
        "def test(model, test_loader, device):\n",
        "    model.eval()\n",
        "    criterion = nn.CrossEntropyLoss()\n",
        "    losses = []\n",
        "    top1_acc = []\n",
        "\n",
        "    with torch.no_grad():\n",
        "        for images, target in test_loader:\n",
        "            images = images.to(device)\n",
        "            target = target.to(device)\n",
        "\n",
        "            output = model(images)\n",
        "            loss = criterion(output, target)\n",
        "            preds = np.argmax(output.detach().cpu().numpy(), axis=1)\n",
        "            labels = target.detach().cpu().numpy()\n",
        "            acc = accuracy(preds, labels)\n",
        "\n",
        "            losses.append(loss.item())\n",
        "            top1_acc.append(acc)\n",
        "\n",
        "    top1_avg = np.mean(top1_acc)\n",
        "\n",
        "    print(\n",
        "        f\"\\tTest set:\"\n",
        "        f\"Loss: {np.mean(losses):.6f} \"\n",
        "        f\"Acc: {top1_avg * 100:.6f} \"\n",
        "    )\n",
        "    return np.mean(top1_acc)"
      ],
      "metadata": {
        "id": "LIeFSlNWGIEn"
      },
      "execution_count": 48,
      "outputs": []
    },
    {
      "cell_type": "code",
      "source": [
        "from tqdm.notebook import tqdm\n",
        "\n",
        "for epoch in tqdm(range(EPOCHS), desc=\"Epoch\", unit=\"epoch\"):\n",
        "    train(model, train_loader, optimizer, epoch + 1, device)"
      ],
      "metadata": {
        "colab": {
          "base_uri": "https://localhost:8080/",
          "height": 942,
          "referenced_widgets": [
            "9dffc33636c0423baa19ea90aa191499",
            "e73b26033f214ae792fb86ccea4af77b",
            "126c860762444550802ceb0988e04c57",
            "c092ec9d201c4f2ca0ba73f047437202",
            "39d1e3d530c9496fb5337e1c71976722",
            "4d1615ab9b214f66bbca4cc1cd1c749a",
            "04646a2b66bd4623b577641fdcb99641",
            "1bad8a9af33240dd8a9c728e239d8d25",
            "8caf57f6b3454528ba78a353fba3f0af",
            "cd6b2fb3252f40bb8ff436a9c770a89d",
            "7eb1bc7bc443410f8c73027cb64d6d88"
          ]
        },
        "id": "GMzFi558GLoE",
        "outputId": "56691332-fa1d-44e5-e6ec-bcd781064c0a"
      },
      "execution_count": 49,
      "outputs": [
        {
          "output_type": "display_data",
          "data": {
            "text/plain": [
              "Epoch:   0%|          | 0/25 [00:00<?, ?epoch/s]"
            ],
            "application/vnd.jupyter.widget-view+json": {
              "version_major": 2,
              "version_minor": 0,
              "model_id": "9dffc33636c0423baa19ea90aa191499"
            }
          },
          "metadata": {}
        },
        {
          "output_type": "stream",
          "name": "stdout",
          "text": [
            "\tTrain Epoch: 1 \tLoss: 2.297433 Acc@1: 13.400816 (ε = 0.49, δ = 1e-05)\n",
            "\tTrain Epoch: 1 \tLoss: 2.154730 Acc@1: 17.917642 (ε = 0.63, δ = 1e-05)\n",
            "\tTrain Epoch: 2 \tLoss: 1.902019 Acc@1: 27.912496 (ε = 0.75, δ = 1e-05)\n",
            "\tTrain Epoch: 2 \tLoss: 1.852937 Acc@1: 30.406447 (ε = 0.85, δ = 1e-05)\n",
            "\tTrain Epoch: 3 \tLoss: 1.735654 Acc@1: 36.565023 (ε = 0.95, δ = 1e-05)\n",
            "\tTrain Epoch: 3 \tLoss: 1.708474 Acc@1: 38.004496 (ε = 1.03, δ = 1e-05)\n",
            "\tTrain Epoch: 4 \tLoss: 1.639327 Acc@1: 42.634351 (ε = 1.11, δ = 1e-05)\n",
            "\tTrain Epoch: 4 \tLoss: 1.633236 Acc@1: 43.369347 (ε = 1.18, δ = 1e-05)\n",
            "\tTrain Epoch: 5 \tLoss: 1.625932 Acc@1: 45.815433 (ε = 1.25, δ = 1e-05)\n",
            "\tTrain Epoch: 5 \tLoss: 1.631425 Acc@1: 46.102262 (ε = 1.31, δ = 1e-05)\n",
            "\tTrain Epoch: 6 \tLoss: 1.660199 Acc@1: 47.086926 (ε = 1.38, δ = 1e-05)\n",
            "\tTrain Epoch: 6 \tLoss: 1.642528 Acc@1: 47.899317 (ε = 1.43, δ = 1e-05)\n",
            "\tTrain Epoch: 7 \tLoss: 1.656604 Acc@1: 49.432043 (ε = 1.49, δ = 1e-05)\n",
            "\tTrain Epoch: 7 \tLoss: 1.635869 Acc@1: 50.346171 (ε = 1.55, δ = 1e-05)\n",
            "\tTrain Epoch: 8 \tLoss: 1.625245 Acc@1: 51.340950 (ε = 1.60, δ = 1e-05)\n",
            "\tTrain Epoch: 8 \tLoss: 1.622337 Acc@1: 51.726121 (ε = 1.65, δ = 1e-05)\n",
            "\tTrain Epoch: 9 \tLoss: 1.582893 Acc@1: 52.336804 (ε = 1.71, δ = 1e-05)\n",
            "\tTrain Epoch: 9 \tLoss: 1.587965 Acc@1: 52.561286 (ε = 1.76, δ = 1e-05)\n",
            "\tTrain Epoch: 10 \tLoss: 1.577220 Acc@1: 53.725862 (ε = 1.81, δ = 1e-05)\n",
            "\tTrain Epoch: 10 \tLoss: 1.557296 Acc@1: 54.340085 (ε = 1.85, δ = 1e-05)\n",
            "\tTrain Epoch: 11 \tLoss: 1.561552 Acc@1: 55.334930 (ε = 1.90, δ = 1e-05)\n",
            "\tTrain Epoch: 11 \tLoss: 1.575034 Acc@1: 55.236109 (ε = 1.95, δ = 1e-05)\n",
            "\tTrain Epoch: 12 \tLoss: 1.565687 Acc@1: 55.519795 (ε = 1.99, δ = 1e-05)\n",
            "\tTrain Epoch: 12 \tLoss: 1.567421 Acc@1: 55.780587 (ε = 2.03, δ = 1e-05)\n",
            "\tTrain Epoch: 13 \tLoss: 1.520183 Acc@1: 56.684849 (ε = 2.08, δ = 1e-05)\n",
            "\tTrain Epoch: 13 \tLoss: 1.525124 Acc@1: 57.025491 (ε = 2.12, δ = 1e-05)\n",
            "\tTrain Epoch: 14 \tLoss: 1.511800 Acc@1: 57.720761 (ε = 2.16, δ = 1e-05)\n",
            "\tTrain Epoch: 14 \tLoss: 1.516465 Acc@1: 57.641658 (ε = 2.20, δ = 1e-05)\n",
            "\tTrain Epoch: 15 \tLoss: 1.518927 Acc@1: 57.784378 (ε = 2.25, δ = 1e-05)\n",
            "\tTrain Epoch: 15 \tLoss: 1.514615 Acc@1: 58.027692 (ε = 2.28, δ = 1e-05)\n",
            "\tTrain Epoch: 16 \tLoss: 1.509818 Acc@1: 58.539697 (ε = 2.32, δ = 1e-05)\n",
            "\tTrain Epoch: 16 \tLoss: 1.517091 Acc@1: 58.747696 (ε = 2.36, δ = 1e-05)\n",
            "\tTrain Epoch: 17 \tLoss: 1.472002 Acc@1: 59.533216 (ε = 2.40, δ = 1e-05)\n",
            "\tTrain Epoch: 17 \tLoss: 1.482799 Acc@1: 59.487099 (ε = 2.44, δ = 1e-05)\n",
            "\tTrain Epoch: 18 \tLoss: 1.497385 Acc@1: 59.523002 (ε = 2.48, δ = 1e-05)\n",
            "\tTrain Epoch: 18 \tLoss: 1.487800 Acc@1: 59.377356 (ε = 2.51, δ = 1e-05)\n",
            "\tTrain Epoch: 19 \tLoss: 1.458545 Acc@1: 60.099563 (ε = 2.55, δ = 1e-05)\n",
            "\tTrain Epoch: 19 \tLoss: 1.458824 Acc@1: 60.216259 (ε = 2.59, δ = 1e-05)\n",
            "\tTrain Epoch: 20 \tLoss: 1.465309 Acc@1: 60.433086 (ε = 2.62, δ = 1e-05)\n",
            "\tTrain Epoch: 20 \tLoss: 1.468704 Acc@1: 60.438514 (ε = 2.66, δ = 1e-05)\n",
            "\tTrain Epoch: 21 \tLoss: 1.447024 Acc@1: 61.389018 (ε = 2.69, δ = 1e-05)\n",
            "\tTrain Epoch: 21 \tLoss: 1.454495 Acc@1: 61.165051 (ε = 2.73, δ = 1e-05)\n",
            "\tTrain Epoch: 22 \tLoss: 1.452831 Acc@1: 61.790172 (ε = 2.76, δ = 1e-05)\n",
            "\tTrain Epoch: 22 \tLoss: 1.460676 Acc@1: 61.756375 (ε = 2.79, δ = 1e-05)\n",
            "\tTrain Epoch: 23 \tLoss: 1.466124 Acc@1: 61.575566 (ε = 2.83, δ = 1e-05)\n",
            "\tTrain Epoch: 23 \tLoss: 1.457619 Acc@1: 61.601908 (ε = 2.86, δ = 1e-05)\n",
            "\tTrain Epoch: 24 \tLoss: 1.422217 Acc@1: 62.049351 (ε = 2.90, δ = 1e-05)\n",
            "\tTrain Epoch: 24 \tLoss: 1.431399 Acc@1: 61.933382 (ε = 2.93, δ = 1e-05)\n",
            "\tTrain Epoch: 25 \tLoss: 1.432605 Acc@1: 61.917827 (ε = 2.96, δ = 1e-05)\n",
            "\tTrain Epoch: 25 \tLoss: 1.441869 Acc@1: 62.062522 (ε = 2.99, δ = 1e-05)\n"
          ]
        }
      ]
    },
    {
      "cell_type": "code",
      "source": [
        "top1_acc = test(model, test_loader, device)"
      ],
      "metadata": {
        "id": "QqmRoFktGQ-d",
        "colab": {
          "base_uri": "https://localhost:8080/"
        },
        "outputId": "96890d85-9d47-40e2-b33c-004a9a73553a"
      },
      "execution_count": 50,
      "outputs": [
        {
          "output_type": "stream",
          "name": "stdout",
          "text": [
            "\tTest set:Loss: 1.507198 Acc: 60.978637 \n"
          ]
        }
      ]
    }
  ]
}
