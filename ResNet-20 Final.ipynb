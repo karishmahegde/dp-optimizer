{
  "nbformat": 4,
  "nbformat_minor": 0,
  "metadata": {
    "colab": {
      "provenance": []
    },
    "kernelspec": {
      "name": "python3",
      "display_name": "Python 3"
    },
    "language_info": {
      "name": "python"
    },
    "widgets": {
      "application/vnd.jupyter.widget-state+json": {
        "832cb296fc104e0bb1b441df24d0708d": {
          "model_module": "@jupyter-widgets/controls",
          "model_name": "HBoxModel",
          "model_module_version": "1.5.0",
          "state": {
            "_dom_classes": [],
            "_model_module": "@jupyter-widgets/controls",
            "_model_module_version": "1.5.0",
            "_model_name": "HBoxModel",
            "_view_count": null,
            "_view_module": "@jupyter-widgets/controls",
            "_view_module_version": "1.5.0",
            "_view_name": "HBoxView",
            "box_style": "",
            "children": [
              "IPY_MODEL_46d1626a802e4ec7926976ad64a32e4a",
              "IPY_MODEL_477abf7e5c5a4089b98d17f518bf56b8",
              "IPY_MODEL_a78052e67bbd487383b71070f1c81eec"
            ],
            "layout": "IPY_MODEL_ad67a2ded37b4827aab67e9d20482026"
          }
        },
        "46d1626a802e4ec7926976ad64a32e4a": {
          "model_module": "@jupyter-widgets/controls",
          "model_name": "HTMLModel",
          "model_module_version": "1.5.0",
          "state": {
            "_dom_classes": [],
            "_model_module": "@jupyter-widgets/controls",
            "_model_module_version": "1.5.0",
            "_model_name": "HTMLModel",
            "_view_count": null,
            "_view_module": "@jupyter-widgets/controls",
            "_view_module_version": "1.5.0",
            "_view_name": "HTMLView",
            "description": "",
            "description_tooltip": null,
            "layout": "IPY_MODEL_b8068c954636424cbbd6cca76ec0f0a4",
            "placeholder": "​",
            "style": "IPY_MODEL_c60e8fd83f8c4107b088372a1f8112d5",
            "value": "Epoch: 100%"
          }
        },
        "477abf7e5c5a4089b98d17f518bf56b8": {
          "model_module": "@jupyter-widgets/controls",
          "model_name": "FloatProgressModel",
          "model_module_version": "1.5.0",
          "state": {
            "_dom_classes": [],
            "_model_module": "@jupyter-widgets/controls",
            "_model_module_version": "1.5.0",
            "_model_name": "FloatProgressModel",
            "_view_count": null,
            "_view_module": "@jupyter-widgets/controls",
            "_view_module_version": "1.5.0",
            "_view_name": "ProgressView",
            "bar_style": "success",
            "description": "",
            "description_tooltip": null,
            "layout": "IPY_MODEL_97ec3f8d92cc465fad9635761c0a9fd8",
            "max": 50,
            "min": 0,
            "orientation": "horizontal",
            "style": "IPY_MODEL_e38b408dd8f443b0a6040016241edcc7",
            "value": 50
          }
        },
        "a78052e67bbd487383b71070f1c81eec": {
          "model_module": "@jupyter-widgets/controls",
          "model_name": "HTMLModel",
          "model_module_version": "1.5.0",
          "state": {
            "_dom_classes": [],
            "_model_module": "@jupyter-widgets/controls",
            "_model_module_version": "1.5.0",
            "_model_name": "HTMLModel",
            "_view_count": null,
            "_view_module": "@jupyter-widgets/controls",
            "_view_module_version": "1.5.0",
            "_view_name": "HTMLView",
            "description": "",
            "description_tooltip": null,
            "layout": "IPY_MODEL_4e7403810a204d378b0251b4020fd300",
            "placeholder": "​",
            "style": "IPY_MODEL_551969a150b945359f1c3963306c5e89",
            "value": " 50/50 [45:36&lt;00:00, 55.18s/epoch]"
          }
        },
        "ad67a2ded37b4827aab67e9d20482026": {
          "model_module": "@jupyter-widgets/base",
          "model_name": "LayoutModel",
          "model_module_version": "1.2.0",
          "state": {
            "_model_module": "@jupyter-widgets/base",
            "_model_module_version": "1.2.0",
            "_model_name": "LayoutModel",
            "_view_count": null,
            "_view_module": "@jupyter-widgets/base",
            "_view_module_version": "1.2.0",
            "_view_name": "LayoutView",
            "align_content": null,
            "align_items": null,
            "align_self": null,
            "border": null,
            "bottom": null,
            "display": null,
            "flex": null,
            "flex_flow": null,
            "grid_area": null,
            "grid_auto_columns": null,
            "grid_auto_flow": null,
            "grid_auto_rows": null,
            "grid_column": null,
            "grid_gap": null,
            "grid_row": null,
            "grid_template_areas": null,
            "grid_template_columns": null,
            "grid_template_rows": null,
            "height": null,
            "justify_content": null,
            "justify_items": null,
            "left": null,
            "margin": null,
            "max_height": null,
            "max_width": null,
            "min_height": null,
            "min_width": null,
            "object_fit": null,
            "object_position": null,
            "order": null,
            "overflow": null,
            "overflow_x": null,
            "overflow_y": null,
            "padding": null,
            "right": null,
            "top": null,
            "visibility": null,
            "width": null
          }
        },
        "b8068c954636424cbbd6cca76ec0f0a4": {
          "model_module": "@jupyter-widgets/base",
          "model_name": "LayoutModel",
          "model_module_version": "1.2.0",
          "state": {
            "_model_module": "@jupyter-widgets/base",
            "_model_module_version": "1.2.0",
            "_model_name": "LayoutModel",
            "_view_count": null,
            "_view_module": "@jupyter-widgets/base",
            "_view_module_version": "1.2.0",
            "_view_name": "LayoutView",
            "align_content": null,
            "align_items": null,
            "align_self": null,
            "border": null,
            "bottom": null,
            "display": null,
            "flex": null,
            "flex_flow": null,
            "grid_area": null,
            "grid_auto_columns": null,
            "grid_auto_flow": null,
            "grid_auto_rows": null,
            "grid_column": null,
            "grid_gap": null,
            "grid_row": null,
            "grid_template_areas": null,
            "grid_template_columns": null,
            "grid_template_rows": null,
            "height": null,
            "justify_content": null,
            "justify_items": null,
            "left": null,
            "margin": null,
            "max_height": null,
            "max_width": null,
            "min_height": null,
            "min_width": null,
            "object_fit": null,
            "object_position": null,
            "order": null,
            "overflow": null,
            "overflow_x": null,
            "overflow_y": null,
            "padding": null,
            "right": null,
            "top": null,
            "visibility": null,
            "width": null
          }
        },
        "c60e8fd83f8c4107b088372a1f8112d5": {
          "model_module": "@jupyter-widgets/controls",
          "model_name": "DescriptionStyleModel",
          "model_module_version": "1.5.0",
          "state": {
            "_model_module": "@jupyter-widgets/controls",
            "_model_module_version": "1.5.0",
            "_model_name": "DescriptionStyleModel",
            "_view_count": null,
            "_view_module": "@jupyter-widgets/base",
            "_view_module_version": "1.2.0",
            "_view_name": "StyleView",
            "description_width": ""
          }
        },
        "97ec3f8d92cc465fad9635761c0a9fd8": {
          "model_module": "@jupyter-widgets/base",
          "model_name": "LayoutModel",
          "model_module_version": "1.2.0",
          "state": {
            "_model_module": "@jupyter-widgets/base",
            "_model_module_version": "1.2.0",
            "_model_name": "LayoutModel",
            "_view_count": null,
            "_view_module": "@jupyter-widgets/base",
            "_view_module_version": "1.2.0",
            "_view_name": "LayoutView",
            "align_content": null,
            "align_items": null,
            "align_self": null,
            "border": null,
            "bottom": null,
            "display": null,
            "flex": null,
            "flex_flow": null,
            "grid_area": null,
            "grid_auto_columns": null,
            "grid_auto_flow": null,
            "grid_auto_rows": null,
            "grid_column": null,
            "grid_gap": null,
            "grid_row": null,
            "grid_template_areas": null,
            "grid_template_columns": null,
            "grid_template_rows": null,
            "height": null,
            "justify_content": null,
            "justify_items": null,
            "left": null,
            "margin": null,
            "max_height": null,
            "max_width": null,
            "min_height": null,
            "min_width": null,
            "object_fit": null,
            "object_position": null,
            "order": null,
            "overflow": null,
            "overflow_x": null,
            "overflow_y": null,
            "padding": null,
            "right": null,
            "top": null,
            "visibility": null,
            "width": null
          }
        },
        "e38b408dd8f443b0a6040016241edcc7": {
          "model_module": "@jupyter-widgets/controls",
          "model_name": "ProgressStyleModel",
          "model_module_version": "1.5.0",
          "state": {
            "_model_module": "@jupyter-widgets/controls",
            "_model_module_version": "1.5.0",
            "_model_name": "ProgressStyleModel",
            "_view_count": null,
            "_view_module": "@jupyter-widgets/base",
            "_view_module_version": "1.2.0",
            "_view_name": "StyleView",
            "bar_color": null,
            "description_width": ""
          }
        },
        "4e7403810a204d378b0251b4020fd300": {
          "model_module": "@jupyter-widgets/base",
          "model_name": "LayoutModel",
          "model_module_version": "1.2.0",
          "state": {
            "_model_module": "@jupyter-widgets/base",
            "_model_module_version": "1.2.0",
            "_model_name": "LayoutModel",
            "_view_count": null,
            "_view_module": "@jupyter-widgets/base",
            "_view_module_version": "1.2.0",
            "_view_name": "LayoutView",
            "align_content": null,
            "align_items": null,
            "align_self": null,
            "border": null,
            "bottom": null,
            "display": null,
            "flex": null,
            "flex_flow": null,
            "grid_area": null,
            "grid_auto_columns": null,
            "grid_auto_flow": null,
            "grid_auto_rows": null,
            "grid_column": null,
            "grid_gap": null,
            "grid_row": null,
            "grid_template_areas": null,
            "grid_template_columns": null,
            "grid_template_rows": null,
            "height": null,
            "justify_content": null,
            "justify_items": null,
            "left": null,
            "margin": null,
            "max_height": null,
            "max_width": null,
            "min_height": null,
            "min_width": null,
            "object_fit": null,
            "object_position": null,
            "order": null,
            "overflow": null,
            "overflow_x": null,
            "overflow_y": null,
            "padding": null,
            "right": null,
            "top": null,
            "visibility": null,
            "width": null
          }
        },
        "551969a150b945359f1c3963306c5e89": {
          "model_module": "@jupyter-widgets/controls",
          "model_name": "DescriptionStyleModel",
          "model_module_version": "1.5.0",
          "state": {
            "_model_module": "@jupyter-widgets/controls",
            "_model_module_version": "1.5.0",
            "_model_name": "DescriptionStyleModel",
            "_view_count": null,
            "_view_module": "@jupyter-widgets/base",
            "_view_module_version": "1.2.0",
            "_view_name": "StyleView",
            "description_width": ""
          }
        }
      }
    }
  },
  "cells": [
    {
      "cell_type": "code",
      "source": [
        "!pip install torch torchvision torchaudio"
      ],
      "metadata": {
        "colab": {
          "base_uri": "https://localhost:8080/"
        },
        "id": "9AaSImenFc8M",
        "outputId": "c10f82a1-eac6-4059-ec9d-bc0455ec99e1"
      },
      "execution_count": null,
      "outputs": [
        {
          "output_type": "stream",
          "name": "stdout",
          "text": [
            "Requirement already satisfied: torch in /usr/local/lib/python3.10/dist-packages (2.5.1+cu121)\n",
            "Requirement already satisfied: torchvision in /usr/local/lib/python3.10/dist-packages (0.20.1+cu121)\n",
            "Requirement already satisfied: torchaudio in /usr/local/lib/python3.10/dist-packages (2.5.1+cu121)\n",
            "Requirement already satisfied: filelock in /usr/local/lib/python3.10/dist-packages (from torch) (3.16.1)\n",
            "Requirement already satisfied: typing-extensions>=4.8.0 in /usr/local/lib/python3.10/dist-packages (from torch) (4.12.2)\n",
            "Requirement already satisfied: networkx in /usr/local/lib/python3.10/dist-packages (from torch) (3.4.2)\n",
            "Requirement already satisfied: jinja2 in /usr/local/lib/python3.10/dist-packages (from torch) (3.1.4)\n",
            "Requirement already satisfied: fsspec in /usr/local/lib/python3.10/dist-packages (from torch) (2024.10.0)\n",
            "Requirement already satisfied: sympy==1.13.1 in /usr/local/lib/python3.10/dist-packages (from torch) (1.13.1)\n",
            "Requirement already satisfied: mpmath<1.4,>=1.1.0 in /usr/local/lib/python3.10/dist-packages (from sympy==1.13.1->torch) (1.3.0)\n",
            "Requirement already satisfied: numpy in /usr/local/lib/python3.10/dist-packages (from torchvision) (1.26.4)\n",
            "Requirement already satisfied: pillow!=8.3.*,>=5.3.0 in /usr/local/lib/python3.10/dist-packages (from torchvision) (11.0.0)\n",
            "Requirement already satisfied: MarkupSafe>=2.0 in /usr/local/lib/python3.10/dist-packages (from jinja2->torch) (3.0.2)\n"
          ]
        }
      ]
    },
    {
      "cell_type": "code",
      "source": [
        "!pip install opacus"
      ],
      "metadata": {
        "colab": {
          "base_uri": "https://localhost:8080/"
        },
        "id": "YQAolC_XFh-i",
        "outputId": "3e1f4dc1-05aa-4d0e-8753-ed69ecc85fcb"
      },
      "execution_count": null,
      "outputs": [
        {
          "output_type": "stream",
          "name": "stdout",
          "text": [
            "Requirement already satisfied: opacus in /usr/local/lib/python3.10/dist-packages (1.5.2)\n",
            "Requirement already satisfied: numpy<2.0,>=1.15 in /usr/local/lib/python3.10/dist-packages (from opacus) (1.26.4)\n",
            "Requirement already satisfied: torch>=2.0 in /usr/local/lib/python3.10/dist-packages (from opacus) (2.5.1+cu121)\n",
            "Requirement already satisfied: scipy>=1.2 in /usr/local/lib/python3.10/dist-packages (from opacus) (1.13.1)\n",
            "Requirement already satisfied: opt-einsum>=3.3.0 in /usr/local/lib/python3.10/dist-packages (from opacus) (3.4.0)\n",
            "Requirement already satisfied: filelock in /usr/local/lib/python3.10/dist-packages (from torch>=2.0->opacus) (3.16.1)\n",
            "Requirement already satisfied: typing-extensions>=4.8.0 in /usr/local/lib/python3.10/dist-packages (from torch>=2.0->opacus) (4.12.2)\n",
            "Requirement already satisfied: networkx in /usr/local/lib/python3.10/dist-packages (from torch>=2.0->opacus) (3.4.2)\n",
            "Requirement already satisfied: jinja2 in /usr/local/lib/python3.10/dist-packages (from torch>=2.0->opacus) (3.1.4)\n",
            "Requirement already satisfied: fsspec in /usr/local/lib/python3.10/dist-packages (from torch>=2.0->opacus) (2024.10.0)\n",
            "Requirement already satisfied: sympy==1.13.1 in /usr/local/lib/python3.10/dist-packages (from torch>=2.0->opacus) (1.13.1)\n",
            "Requirement already satisfied: mpmath<1.4,>=1.1.0 in /usr/local/lib/python3.10/dist-packages (from sympy==1.13.1->torch>=2.0->opacus) (1.3.0)\n",
            "Requirement already satisfied: MarkupSafe>=2.0 in /usr/local/lib/python3.10/dist-packages (from jinja2->torch>=2.0->opacus) (3.0.2)\n"
          ]
        }
      ]
    },
    {
      "cell_type": "code",
      "execution_count": null,
      "metadata": {
        "id": "OXx2SksCFVXv"
      },
      "outputs": [],
      "source": [
        "import warnings\n",
        "warnings.simplefilter(\"ignore\")\n",
        "\n",
        "#MAX_GRAD_NORM = 1.2\n",
        "EPSILON = 3.0\n",
        "DELTA = 1e-5\n",
        "EPOCHS = 50\n",
        "\n",
        "#Adaptive Clipping\n",
        "initial_clip_norm = 1.0\n",
        "eta_C = 0.2  # Learning rate for updating the clipping norm\n",
        "target_quantile = 0.5  # Target quantile, e.g., 0.5 for the median\n",
        "\n",
        "LR = 0.5"
      ]
    },
    {
      "cell_type": "code",
      "source": [
        "BATCH_SIZE = 4096\n",
        "MAX_PHYSICAL_BATCH_SIZE = 128"
      ],
      "metadata": {
        "id": "-pcI3wYLFnoW"
      },
      "execution_count": null,
      "outputs": []
    },
    {
      "cell_type": "code",
      "source": [
        "import torch\n",
        "import torchvision\n",
        "import torchvision.transforms as transforms\n",
        "\n",
        "# These values, specific to the CIFAR10 dataset, are assumed to be known.\n",
        "# If necessary, they can be computed with modest privacy budgets.\n",
        "CIFAR10_MEAN = (0.4914, 0.4822, 0.4465)\n",
        "CIFAR10_STD_DEV = (0.2023, 0.1994, 0.2010)\n",
        "\n",
        "transform = transforms.Compose([\n",
        "    transforms.ToTensor(),\n",
        "    transforms.Normalize(CIFAR10_MEAN, CIFAR10_STD_DEV),\n",
        "])"
      ],
      "metadata": {
        "id": "PBbPBCZGFpb-"
      },
      "execution_count": null,
      "outputs": []
    },
    {
      "cell_type": "code",
      "source": [
        "from torchvision.datasets import CIFAR10\n",
        "\n",
        "DATA_ROOT = '../cifar10'\n",
        "\n",
        "train_dataset = CIFAR10(\n",
        "    root=DATA_ROOT, train=True, download=True, transform=transform)\n",
        "\n",
        "train_loader = torch.utils.data.DataLoader(\n",
        "    train_dataset,\n",
        "    batch_size=BATCH_SIZE,\n",
        ")\n",
        "\n",
        "test_dataset = CIFAR10(\n",
        "    root=DATA_ROOT, train=False, download=True, transform=transform)\n",
        "\n",
        "test_loader = torch.utils.data.DataLoader(\n",
        "    test_dataset,\n",
        "    batch_size=BATCH_SIZE,\n",
        "    shuffle=False,\n",
        ")"
      ],
      "metadata": {
        "colab": {
          "base_uri": "https://localhost:8080/"
        },
        "id": "ycYpgyoVFs1T",
        "outputId": "f5f0f306-7a5b-4a0d-cab3-6a3613aab54f"
      },
      "execution_count": null,
      "outputs": [
        {
          "output_type": "stream",
          "name": "stdout",
          "text": [
            "Files already downloaded and verified\n",
            "Files already downloaded and verified\n"
          ]
        }
      ]
    },
    {
      "cell_type": "markdown",
      "source": [
        "### **ResNet20 (with Adaptive Clipping)**"
      ],
      "metadata": {
        "id": "lYm-LBfyKdIG"
      }
    },
    {
      "cell_type": "code",
      "source": [
        "import torch.nn as nn\n",
        "import torch.nn.functional as F"
      ],
      "metadata": {
        "id": "rWZ9TeOnJcd6"
      },
      "execution_count": null,
      "outputs": []
    },
    {
      "cell_type": "code",
      "source": [
        "class WSConv2d(nn.Conv2d):\n",
        "    def forward(self, x):\n",
        "        # Weight standardization\n",
        "        mean = self.weight.mean(dim=[1, 2, 3], keepdim=True)\n",
        "        std = self.weight.std(dim=[1, 2, 3], keepdim=True)\n",
        "        weight_standardized = (self.weight - mean) / (std + 1e-5)\n",
        "\n",
        "        return F.conv2d(x, weight_standardized, self.bias, self.stride,\n",
        "                        self.padding, self.dilation, self.groups)\n",
        "\n",
        "class BasicBlock(nn.Module):\n",
        "    def __init__(self, in_channels, out_channels, stride=1, num_groups=32):\n",
        "        super(BasicBlock, self).__init__()\n",
        "        #self.conv1 = nn.Conv2d(in_channels, out_channels, kernel_size=3, stride=stride, padding=1, bias=False) #First convolutional layer\n",
        "        self.conv1 = WSConv2d(in_channels, out_channels, kernel_size=3, stride=stride, padding=1, bias=False) #First weight-standardized convolutional layer\n",
        "        self.gn1 = nn.GroupNorm(num_groups, out_channels)  #GroupNorm for DP compatability\n",
        "\n",
        "        #self.conv2 = nn.Conv2d(out_channels, out_channels, kernel_size=3, stride=1, padding=1, bias=False)  #Second convolutional layer\n",
        "        self.conv2 = WSConv2d(out_channels, out_channels, kernel_size=3, stride=1, padding=1, bias=False) #Second weight-standardized convolutional layer\n",
        "        self.gn2 = nn.GroupNorm(num_groups, out_channels)  #GroupNorm for DP compatability\n",
        "        # Skip connection\n",
        "        self.shortcut = nn.Sequential()\n",
        "        if stride != 1 or in_channels != out_channels:\n",
        "            self.shortcut = nn.Sequential(\n",
        "                #nn.Conv2d(in_channels, out_channels, kernel_size=1, stride=stride, bias=False),\n",
        "                WSConv2d(in_channels, out_channels, kernel_size=1, stride=stride, bias=False),\n",
        "                nn.GroupNorm(num_groups, out_channels)  #GroupNorm for DP compatability\n",
        "            )\n",
        "\n",
        "    def forward(self, x):\n",
        "        out = F.relu(self.gn1(self.conv1(x)))\n",
        "        out = self.gn2(self.conv2(out))\n",
        "        out += self.shortcut(x)\n",
        "        out = F.relu(out)\n",
        "        return out\n",
        "\n",
        "class ResNet20(nn.Module):\n",
        "    def __init__(self, num_classes=10, num_groups=32):\n",
        "        super(ResNet20, self).__init__()\n",
        "        self.in_channels = 16\n",
        "        #Initial convolutional layer\n",
        "        #self.conv1 = nn.Conv2d(3, self.in_channels, kernel_size=3, stride=1, padding=1, bias=False)\n",
        "        self.conv1 = WSConv2d(3, self.in_channels, kernel_size=3, stride=1, padding=1, bias=False)\n",
        "        self.gn1 = nn.GroupNorm(num_groups, self.in_channels)  #GroupNorm for DP compatability\n",
        "        # Residual blocks\n",
        "        self.layer1 = self._make_layer(16, 3, stride=1, num_groups=4)   # 4 groups for 16 channels\n",
        "        self.layer2 = self._make_layer(32, 3, stride=2, num_groups=8)   # 8 groups for 32 channels\n",
        "        self.layer3 = self._make_layer(64, 3, stride=2, num_groups=16)  # 16 groups for 64 channels\n",
        "        # Fully connected layer\n",
        "        self.fc = nn.Linear(64, num_classes)\n",
        "\n",
        "    def _make_layer(self, out_channels, num_blocks, stride, num_groups):\n",
        "        layers = []\n",
        "        for _ in range(num_blocks):\n",
        "            layers.append(BasicBlock(self.in_channels, out_channels, stride, num_groups=num_groups))\n",
        "            self.in_channels = out_channels\n",
        "            stride = 1  #Only the first block in each layer has a stride of 1\n",
        "        return nn.Sequential(*layers)\n",
        "\n",
        "    def forward(self, x):\n",
        "        out = F.relu(self.gn1(self.conv1(x)))\n",
        "        out = self.layer1(out)\n",
        "        out = self.layer2(out)\n",
        "        out = self.layer3(out)\n",
        "        out = F.avg_pool2d(out, 8)\n",
        "        out = out.view(out.size(0), -1)\n",
        "        out = self.fc(out)\n",
        "        return out\n",
        "\n",
        "    #Adaptive Clipping\n",
        "    def calculate_avg_grad_norm(model):\n",
        "        total_norm = 0.0\n",
        "        total_params = 0\n",
        "        for p in model.parameters():\n",
        "            if p.grad is not None:\n",
        "                param_norm = p.grad.data.norm(2).item()\n",
        "                total_norm += param_norm ** 2\n",
        "                total_params += 1\n",
        "        avg_grad_norm = (total_norm / total_params) ** 0.5\n",
        "        return avg_grad_norm\n",
        "\n",
        "    #Grouped Gradient Clipping\n",
        "    '''\n",
        "    def clip_gradients_by_group(model, max_grad_norms):\n",
        "        \"\"\"Clip gradients by group of layers, based on the provided max_grad_norms list.\"\"\"\n",
        "        group_gradients = [[], []]  # Adjust the number of groups as necessary\n",
        "\n",
        "        # Group 1: Convolutional layers\n",
        "        group_gradients[0].extend([p for name, p in model.named_parameters() if 'conv' in name])\n",
        "\n",
        "        # Group 2: Fully connected layers\n",
        "        group_gradients[1].extend([p for name, p in model.named_parameters() if 'fc' in name])\n",
        "\n",
        "        # Clip gradients per group\n",
        "        for group, max_norm in zip(group_gradients, max_grad_norms):\n",
        "            total_norm = torch.norm(torch.stack([torch.norm(p.grad) for p in group if p.grad is not None]), 2)\n",
        "            clip_coef = max_norm / (total_norm + 1e-6)\n",
        "            if clip_coef < 1:\n",
        "                for p in group:\n",
        "                    if p.grad is not None:\n",
        "                        p.grad.mul_(clip_coef)\n",
        "    '''"
      ],
      "metadata": {
        "id": "rhpRnIcOL80C"
      },
      "execution_count": null,
      "outputs": []
    },
    {
      "cell_type": "markdown",
      "source": [
        "### Model Assignment"
      ],
      "metadata": {
        "id": "DvtegZm1XY3F"
      }
    },
    {
      "cell_type": "code",
      "source": [
        "model = ResNet20(num_classes=10, num_groups=4)"
      ],
      "metadata": {
        "id": "Rd7j9ehaK0yh"
      },
      "execution_count": null,
      "outputs": []
    },
    {
      "cell_type": "code",
      "source": [
        "from opacus.validators import ModuleValidator\n",
        "\n",
        "errors = ModuleValidator.validate(model, strict=False)\n",
        "errors[-5:]"
      ],
      "metadata": {
        "colab": {
          "base_uri": "https://localhost:8080/"
        },
        "id": "Kmb1UL1OFycC",
        "outputId": "558561d1-3f2b-4bb8-8080-2bf21aff51a8"
      },
      "execution_count": null,
      "outputs": [
        {
          "output_type": "execute_result",
          "data": {
            "text/plain": [
              "[]"
            ]
          },
          "metadata": {},
          "execution_count": 25
        }
      ]
    },
    {
      "cell_type": "code",
      "source": [
        "model = ModuleValidator.fix(model)\n",
        "ModuleValidator.validate(model, strict=False)"
      ],
      "metadata": {
        "colab": {
          "base_uri": "https://localhost:8080/"
        },
        "id": "CORRbNMzF3GO",
        "outputId": "a31c34cf-51e1-49df-8684-b5f9a72dc18f"
      },
      "execution_count": null,
      "outputs": [
        {
          "output_type": "execute_result",
          "data": {
            "text/plain": [
              "[]"
            ]
          },
          "metadata": {},
          "execution_count": 26
        }
      ]
    },
    {
      "cell_type": "code",
      "source": [
        "device = torch.device(\"cuda\" if torch.cuda.is_available() else \"cpu\")\n",
        "\n",
        "model = model.to(device)"
      ],
      "metadata": {
        "id": "2aiLjxaJF7NM"
      },
      "execution_count": null,
      "outputs": []
    },
    {
      "cell_type": "code",
      "source": [
        "import torch.optim as optim\n",
        "\n",
        "criterion = nn.CrossEntropyLoss()\n",
        "optimizer = optim.SGD(model.parameters(), lr=LR, momentum=0.9)"
      ],
      "metadata": {
        "id": "MPyD5vJiF8nJ"
      },
      "execution_count": null,
      "outputs": []
    },
    {
      "cell_type": "code",
      "source": [
        "def accuracy(preds, labels):\n",
        "    return (preds == labels).mean()"
      ],
      "metadata": {
        "id": "uBBTGgtvF_wA"
      },
      "execution_count": null,
      "outputs": []
    },
    {
      "cell_type": "code",
      "source": [
        "from opacus import PrivacyEngine\n",
        "\n",
        "privacy_engine = PrivacyEngine()\n",
        "\n",
        "model, optimizer, train_loader = privacy_engine.make_private_with_epsilon(\n",
        "    module=model,\n",
        "    optimizer=optimizer,\n",
        "    data_loader=train_loader,\n",
        "    epochs=EPOCHS,\n",
        "    target_epsilon=EPSILON,\n",
        "    target_delta=DELTA,\n",
        "    max_grad_norm=1.0,  #Starting with grad norm as 1 and adjusting it during training according to the specific quantile of the gradient norm distribution\n",
        ")\n",
        "\n",
        "print(f\"Using sigma={optimizer.noise_multiplier} and C=1.0\")"
      ],
      "metadata": {
        "colab": {
          "base_uri": "https://localhost:8080/"
        },
        "id": "1Sfq362zGDvM",
        "outputId": "4bb36e08-5587-4f4b-8853-409377792789"
      },
      "execution_count": null,
      "outputs": [
        {
          "output_type": "stream",
          "name": "stdout",
          "text": [
            "Using sigma=2.880859375 and C=1.0\n"
          ]
        }
      ]
    },
    {
      "cell_type": "code",
      "source": [
        "def adaptive_clipping(grad_norms, clip_norm, target_quantile, eta_C):   #Adjusts the clipping norm using geometric updates to match a target quantile.\n",
        "    #Calculate the fraction of gradients below the current clip norm\n",
        "    clipped_fraction = np.mean(grad_norms <= clip_norm)\n",
        "\n",
        "    #Update the clipping norm\n",
        "    new_clip_norm = clip_norm * np.exp(-eta_C * (clipped_fraction - target_quantile))\n",
        "    return new_clip_norm\n",
        "\n",
        "def calculate_grad_norms(model):    #Calculates the L2 norm of gradients for each parameter in the model.\n",
        "    grad_norms = []\n",
        "    for p in model.parameters():\n",
        "        if p.grad is not None:\n",
        "            grad_norms.append(p.grad.data.norm(2).item())\n",
        "    return np.array(grad_norms)"
      ],
      "metadata": {
        "id": "sOOFvY06jHDb"
      },
      "execution_count": null,
      "outputs": []
    },
    {
      "cell_type": "code",
      "source": [
        "def clip_gradients_layerwise(model, max_grad_norm):\n",
        "    \"\"\"\n",
        "    Clips gradients for each layer individually based on the max_grad_norm provided.\n",
        "    \"\"\"\n",
        "    for name, param in model.named_parameters():\n",
        "        if param.grad is not None:\n",
        "            # Calculate the gradient norm for this layer\n",
        "            layer_norm = param.grad.data.norm(2).item()\n",
        "            # Compute the clipping coefficient\n",
        "            clip_coef = max_grad_norm / (layer_norm + 1e-6)\n",
        "            # Apply clipping if the coefficient is less than 1\n",
        "            if clip_coef < 1:\n",
        "                param.grad.data.mul_(clip_coef)"
      ],
      "metadata": {
        "id": "TxuBfuhMs9iu"
      },
      "execution_count": null,
      "outputs": []
    },
    {
      "cell_type": "code",
      "source": [
        "import numpy as np\n",
        "from opacus.utils.batch_memory_manager import BatchMemoryManager\n",
        "\n",
        "def train(model, train_loader, optimizer, epoch, device):\n",
        "    model.train()\n",
        "    criterion = nn.CrossEntropyLoss()\n",
        "\n",
        "    losses = []\n",
        "    top1_acc = []\n",
        "    clip_norm = initial_clip_norm  #Start with an initial clip norm\n",
        "\n",
        "    with BatchMemoryManager(\n",
        "        data_loader=train_loader,\n",
        "        max_physical_batch_size=MAX_PHYSICAL_BATCH_SIZE,\n",
        "        optimizer=optimizer\n",
        "    ) as memory_safe_data_loader:\n",
        "\n",
        "        for i, (images, target) in enumerate(memory_safe_data_loader):\n",
        "            optimizer.zero_grad()\n",
        "            images = images.to(device)\n",
        "            target = target.to(device)\n",
        "\n",
        "            #compute output\n",
        "            output = model(images)\n",
        "            loss = criterion(output, target)\n",
        "\n",
        "            preds = np.argmax(output.detach().cpu().numpy(), axis=1)\n",
        "            labels = target.detach().cpu().numpy()\n",
        "\n",
        "            #measure accuracy and record loss\n",
        "            acc = accuracy(preds, labels)\n",
        "\n",
        "            losses.append(loss.item())\n",
        "            top1_acc.append(acc)\n",
        "\n",
        "            loss.backward()\n",
        "\n",
        "            # #Adaptive Clipping\n",
        "            # #Calculate gradient norms for the current batch\n",
        "            # grad_norms = calculate_grad_norms(model)\n",
        "            # #Update the clipping norm based on gradient norms\n",
        "            # clip_norm = adaptive_clipping(grad_norms, clip_norm, target_quantile, eta_C)\n",
        "            # #Clip gradients to the updated norm\n",
        "            # torch.nn.utils.clip_grad_norm_(model.parameters(), clip_norm)\n",
        "\n",
        "            # Layer-wise gradient clipping\n",
        "            clip_gradients_layerwise(model, max_grad_norm=1.0)\n",
        "\n",
        "            #Grouped Gradient Clipping\n",
        "            '''\n",
        "            clip_gradients_by_group(model, grouped_clipping_norms)\n",
        "            '''\n",
        "\n",
        "            optimizer.step()\n",
        "\n",
        "            if (i+1) % 200 == 0:\n",
        "                epsilon = privacy_engine.get_epsilon(DELTA)\n",
        "                print(\n",
        "                    f\"\\tTrain Epoch: {epoch} \\t\"\n",
        "                    f\"Loss: {np.mean(losses):.6f} \"\n",
        "                    f\"Acc@1: {np.mean(top1_acc) * 100:.6f} \"\n",
        "                    f\"(ε = {epsilon:.2f}, δ = {DELTA})\"\n",
        "                )"
      ],
      "metadata": {
        "id": "pwnw-AeZGEfw"
      },
      "execution_count": null,
      "outputs": []
    },
    {
      "cell_type": "code",
      "source": [
        "def test(model, test_loader, device):\n",
        "    model.eval()\n",
        "    criterion = nn.CrossEntropyLoss()\n",
        "    losses = []\n",
        "    top1_acc = []\n",
        "\n",
        "    with torch.no_grad():\n",
        "        for images, target in test_loader:\n",
        "            images = images.to(device)\n",
        "            target = target.to(device)\n",
        "\n",
        "            output = model(images)\n",
        "            loss = criterion(output, target)\n",
        "            preds = np.argmax(output.detach().cpu().numpy(), axis=1)\n",
        "            labels = target.detach().cpu().numpy()\n",
        "            acc = accuracy(preds, labels)\n",
        "\n",
        "            losses.append(loss.item())\n",
        "            top1_acc.append(acc)\n",
        "\n",
        "    top1_avg = np.mean(top1_acc)\n",
        "\n",
        "    print(\n",
        "        f\"\\tTest set:\"\n",
        "        f\"Loss: {np.mean(losses):.6f} \"\n",
        "        f\"Acc: {top1_avg * 100:.6f} \"\n",
        "    )\n",
        "    return np.mean(top1_acc)"
      ],
      "metadata": {
        "id": "LIeFSlNWGIEn"
      },
      "execution_count": null,
      "outputs": []
    },
    {
      "cell_type": "code",
      "source": [
        "from tqdm.notebook import tqdm\n",
        "\n",
        "for epoch in tqdm(range(EPOCHS), desc=\"Epoch\", unit=\"epoch\"):\n",
        "    train(model, train_loader, optimizer, epoch + 1, device)"
      ],
      "metadata": {
        "colab": {
          "base_uri": "https://localhost:8080/",
          "height": 1000,
          "referenced_widgets": [
            "832cb296fc104e0bb1b441df24d0708d",
            "46d1626a802e4ec7926976ad64a32e4a",
            "477abf7e5c5a4089b98d17f518bf56b8",
            "a78052e67bbd487383b71070f1c81eec",
            "ad67a2ded37b4827aab67e9d20482026",
            "b8068c954636424cbbd6cca76ec0f0a4",
            "c60e8fd83f8c4107b088372a1f8112d5",
            "97ec3f8d92cc465fad9635761c0a9fd8",
            "e38b408dd8f443b0a6040016241edcc7",
            "4e7403810a204d378b0251b4020fd300",
            "551969a150b945359f1c3963306c5e89"
          ]
        },
        "id": "GMzFi558GLoE",
        "outputId": "e2a20620-856f-45a9-9a0a-2c3a8cec52d7"
      },
      "execution_count": null,
      "outputs": [
        {
          "output_type": "display_data",
          "data": {
            "text/plain": [
              "Epoch:   0%|          | 0/50 [00:00<?, ?epoch/s]"
            ],
            "application/vnd.jupyter.widget-view+json": {
              "version_major": 2,
              "version_minor": 0,
              "model_id": "832cb296fc104e0bb1b441df24d0708d"
            }
          },
          "metadata": {}
        },
        {
          "output_type": "stream",
          "name": "stdout",
          "text": [
            "\tTrain Epoch: 1 \tLoss: 2.340619 Acc@1: 10.836493 (ε = 0.29, δ = 1e-05)\n",
            "\tTrain Epoch: 2 \tLoss: 2.122747 Acc@1: 18.398481 (ε = 0.49, δ = 1e-05)\n",
            "\tTrain Epoch: 3 \tLoss: 1.885516 Acc@1: 30.092299 (ε = 0.63, δ = 1e-05)\n",
            "\tTrain Epoch: 4 \tLoss: 1.762348 Acc@1: 35.579925 (ε = 0.74, δ = 1e-05)\n",
            "\tTrain Epoch: 5 \tLoss: 1.671229 Acc@1: 39.951233 (ε = 0.84, δ = 1e-05)\n",
            "\tTrain Epoch: 6 \tLoss: 1.636068 Acc@1: 43.236850 (ε = 0.93, δ = 1e-05)\n",
            "\tTrain Epoch: 6 \tLoss: 1.647845 Acc@1: 43.337722 (ε = 0.97, δ = 1e-05)\n",
            "\tTrain Epoch: 7 \tLoss: 1.658031 Acc@1: 44.429282 (ε = 1.01, δ = 1e-05)\n",
            "\tTrain Epoch: 8 \tLoss: 1.633677 Acc@1: 46.455761 (ε = 1.09, δ = 1e-05)\n",
            "\tTrain Epoch: 9 \tLoss: 1.649958 Acc@1: 47.311281 (ε = 1.16, δ = 1e-05)\n",
            "\tTrain Epoch: 9 \tLoss: 1.655610 Acc@1: 47.731209 (ε = 1.20, δ = 1e-05)\n",
            "\tTrain Epoch: 10 \tLoss: 1.729447 Acc@1: 47.862482 (ε = 1.23, δ = 1e-05)\n",
            "\tTrain Epoch: 11 \tLoss: 1.660411 Acc@1: 49.047209 (ε = 1.30, δ = 1e-05)\n",
            "\tTrain Epoch: 11 \tLoss: 1.657950 Acc@1: 49.342943 (ε = 1.33, δ = 1e-05)\n",
            "\tTrain Epoch: 12 \tLoss: 1.613981 Acc@1: 50.817528 (ε = 1.36, δ = 1e-05)\n",
            "\tTrain Epoch: 13 \tLoss: 1.592896 Acc@1: 51.977353 (ε = 1.42, δ = 1e-05)\n",
            "\tTrain Epoch: 14 \tLoss: 1.655370 Acc@1: 51.437066 (ε = 1.48, δ = 1e-05)\n",
            "\tTrain Epoch: 15 \tLoss: 1.576681 Acc@1: 53.068165 (ε = 1.53, δ = 1e-05)\n",
            "\tTrain Epoch: 16 \tLoss: 1.543006 Acc@1: 54.225706 (ε = 1.59, δ = 1e-05)\n",
            "\tTrain Epoch: 16 \tLoss: 1.581694 Acc@1: 53.886549 (ε = 1.62, δ = 1e-05)\n",
            "\tTrain Epoch: 17 \tLoss: 1.575760 Acc@1: 54.430456 (ε = 1.64, δ = 1e-05)\n",
            "\tTrain Epoch: 18 \tLoss: 1.554424 Acc@1: 55.670295 (ε = 1.70, δ = 1e-05)\n",
            "\tTrain Epoch: 19 \tLoss: 1.596107 Acc@1: 55.077863 (ε = 1.75, δ = 1e-05)\n",
            "\tTrain Epoch: 19 \tLoss: 1.593438 Acc@1: 55.247193 (ε = 1.77, δ = 1e-05)\n",
            "\tTrain Epoch: 20 \tLoss: 1.535857 Acc@1: 56.061762 (ε = 1.80, δ = 1e-05)\n",
            "\tTrain Epoch: 21 \tLoss: 1.535066 Acc@1: 56.849912 (ε = 1.85, δ = 1e-05)\n",
            "\tTrain Epoch: 22 \tLoss: 1.542483 Acc@1: 56.767587 (ε = 1.89, δ = 1e-05)\n",
            "\tTrain Epoch: 23 \tLoss: 1.511390 Acc@1: 57.230041 (ε = 1.94, δ = 1e-05)\n",
            "\tTrain Epoch: 24 \tLoss: 1.525469 Acc@1: 57.416039 (ε = 1.99, δ = 1e-05)\n",
            "\tTrain Epoch: 25 \tLoss: 1.490892 Acc@1: 58.694509 (ε = 2.03, δ = 1e-05)\n",
            "\tTrain Epoch: 26 \tLoss: 1.522192 Acc@1: 58.060152 (ε = 2.07, δ = 1e-05)\n",
            "\tTrain Epoch: 27 \tLoss: 1.537599 Acc@1: 58.088893 (ε = 2.12, δ = 1e-05)\n",
            "\tTrain Epoch: 28 \tLoss: 1.493562 Acc@1: 59.579606 (ε = 2.16, δ = 1e-05)\n",
            "\tTrain Epoch: 29 \tLoss: 1.535560 Acc@1: 58.977132 (ε = 2.20, δ = 1e-05)\n",
            "\tTrain Epoch: 30 \tLoss: 1.507121 Acc@1: 59.073001 (ε = 2.24, δ = 1e-05)\n",
            "\tTrain Epoch: 31 \tLoss: 1.488341 Acc@1: 59.649856 (ε = 2.29, δ = 1e-05)\n",
            "\tTrain Epoch: 32 \tLoss: 1.496401 Acc@1: 59.507351 (ε = 2.33, δ = 1e-05)\n",
            "\tTrain Epoch: 33 \tLoss: 1.484166 Acc@1: 60.007632 (ε = 2.37, δ = 1e-05)\n",
            "\tTrain Epoch: 34 \tLoss: 1.448330 Acc@1: 60.726066 (ε = 2.40, δ = 1e-05)\n",
            "\tTrain Epoch: 35 \tLoss: 1.471596 Acc@1: 60.791277 (ε = 2.44, δ = 1e-05)\n",
            "\tTrain Epoch: 36 \tLoss: 1.430010 Acc@1: 61.202470 (ε = 2.48, δ = 1e-05)\n",
            "\tTrain Epoch: 37 \tLoss: 1.451692 Acc@1: 61.331714 (ε = 2.52, δ = 1e-05)\n",
            "\tTrain Epoch: 38 \tLoss: 1.485146 Acc@1: 60.991433 (ε = 2.56, δ = 1e-05)\n",
            "\tTrain Epoch: 39 \tLoss: 1.447503 Acc@1: 61.284574 (ε = 2.59, δ = 1e-05)\n",
            "\tTrain Epoch: 40 \tLoss: 1.490120 Acc@1: 60.768661 (ε = 2.63, δ = 1e-05)\n",
            "\tTrain Epoch: 41 \tLoss: 1.422496 Acc@1: 61.754611 (ε = 2.67, δ = 1e-05)\n",
            "\tTrain Epoch: 41 \tLoss: 1.421552 Acc@1: 61.975222 (ε = 2.69, δ = 1e-05)\n",
            "\tTrain Epoch: 42 \tLoss: 1.437682 Acc@1: 62.033507 (ε = 2.70, δ = 1e-05)\n",
            "\tTrain Epoch: 43 \tLoss: 1.426518 Acc@1: 61.854449 (ε = 2.74, δ = 1e-05)\n",
            "\tTrain Epoch: 44 \tLoss: 1.454876 Acc@1: 61.833878 (ε = 2.77, δ = 1e-05)\n",
            "\tTrain Epoch: 45 \tLoss: 1.429026 Acc@1: 62.105234 (ε = 2.81, δ = 1e-05)\n",
            "\tTrain Epoch: 46 \tLoss: 1.422659 Acc@1: 62.740886 (ε = 2.84, δ = 1e-05)\n",
            "\tTrain Epoch: 47 \tLoss: 1.407768 Acc@1: 62.865696 (ε = 2.88, δ = 1e-05)\n",
            "\tTrain Epoch: 48 \tLoss: 1.450285 Acc@1: 62.527091 (ε = 2.91, δ = 1e-05)\n",
            "\tTrain Epoch: 48 \tLoss: 1.440135 Acc@1: 62.553377 (ε = 2.93, δ = 1e-05)\n",
            "\tTrain Epoch: 49 \tLoss: 1.401645 Acc@1: 63.004836 (ε = 2.95, δ = 1e-05)\n",
            "\tTrain Epoch: 50 \tLoss: 1.395600 Acc@1: 62.991124 (ε = 2.98, δ = 1e-05)\n"
          ]
        }
      ]
    },
    {
      "cell_type": "code",
      "source": [
        "top1_acc = test(model, test_loader, device)"
      ],
      "metadata": {
        "id": "QqmRoFktGQ-d",
        "colab": {
          "base_uri": "https://localhost:8080/"
        },
        "outputId": "f3de2c2d-e220-478d-89bb-9dabf5ac094f"
      },
      "execution_count": null,
      "outputs": [
        {
          "output_type": "stream",
          "name": "stdout",
          "text": [
            "\tTest set:Loss: 1.465991 Acc: 62.393197 \n"
          ]
        }
      ]
    },
    {
      "cell_type": "code",
      "source": [],
      "metadata": {
        "id": "t4BXt4DEzRI2"
      },
      "execution_count": null,
      "outputs": []
    }
  ]
}