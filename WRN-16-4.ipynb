{
  "nbformat": 4,
  "nbformat_minor": 0,
  "metadata": {
    "colab": {
      "provenance": [],
      "gpuType": "T4"
    },
    "kernelspec": {
      "name": "python3",
      "display_name": "Python 3"
    },
    "language_info": {
      "name": "python"
    },
    "widgets": {
      "application/vnd.jupyter.widget-state+json": {
        "650cf1e12ce349b3b42ce9001d6aa30a": {
          "model_module": "@jupyter-widgets/controls",
          "model_name": "HBoxModel",
          "model_module_version": "1.5.0",
          "state": {
            "_dom_classes": [],
            "_model_module": "@jupyter-widgets/controls",
            "_model_module_version": "1.5.0",
            "_model_name": "HBoxModel",
            "_view_count": null,
            "_view_module": "@jupyter-widgets/controls",
            "_view_module_version": "1.5.0",
            "_view_name": "HBoxView",
            "box_style": "",
            "children": [
              "IPY_MODEL_b1f0ddcda4ae43a994396833f37773b1",
              "IPY_MODEL_c010b13cc53f48ef9719ba1ae7e8b3cd",
              "IPY_MODEL_32baf63b721a4d4291da8abc71b70d32"
            ],
            "layout": "IPY_MODEL_fffeb0fe0baf495d998ef9ac803779c1"
          }
        },
        "b1f0ddcda4ae43a994396833f37773b1": {
          "model_module": "@jupyter-widgets/controls",
          "model_name": "HTMLModel",
          "model_module_version": "1.5.0",
          "state": {
            "_dom_classes": [],
            "_model_module": "@jupyter-widgets/controls",
            "_model_module_version": "1.5.0",
            "_model_name": "HTMLModel",
            "_view_count": null,
            "_view_module": "@jupyter-widgets/controls",
            "_view_module_version": "1.5.0",
            "_view_name": "HTMLView",
            "description": "",
            "description_tooltip": null,
            "layout": "IPY_MODEL_234452bc47d049a6b21f0a19a5659191",
            "placeholder": "​",
            "style": "IPY_MODEL_aa0041a4b8a84382a4770168b4fa4e42",
            "value": "Epoch: 100%"
          }
        },
        "c010b13cc53f48ef9719ba1ae7e8b3cd": {
          "model_module": "@jupyter-widgets/controls",
          "model_name": "FloatProgressModel",
          "model_module_version": "1.5.0",
          "state": {
            "_dom_classes": [],
            "_model_module": "@jupyter-widgets/controls",
            "_model_module_version": "1.5.0",
            "_model_name": "FloatProgressModel",
            "_view_count": null,
            "_view_module": "@jupyter-widgets/controls",
            "_view_module_version": "1.5.0",
            "_view_name": "ProgressView",
            "bar_style": "success",
            "description": "",
            "description_tooltip": null,
            "layout": "IPY_MODEL_d403ec1dfdc8446c87bbbd9282cfdd73",
            "max": 25,
            "min": 0,
            "orientation": "horizontal",
            "style": "IPY_MODEL_7ec4a387bda24be6be20c158cf4d5c3e",
            "value": 25
          }
        },
        "32baf63b721a4d4291da8abc71b70d32": {
          "model_module": "@jupyter-widgets/controls",
          "model_name": "HTMLModel",
          "model_module_version": "1.5.0",
          "state": {
            "_dom_classes": [],
            "_model_module": "@jupyter-widgets/controls",
            "_model_module_version": "1.5.0",
            "_model_name": "HTMLModel",
            "_view_count": null,
            "_view_module": "@jupyter-widgets/controls",
            "_view_module_version": "1.5.0",
            "_view_name": "HTMLView",
            "description": "",
            "description_tooltip": null,
            "layout": "IPY_MODEL_ff95d18ecf4340ee86b5086a4521e1c6",
            "placeholder": "​",
            "style": "IPY_MODEL_1e5cd6839f174bb0885f13ee140196cc",
            "value": " 25/25 [58:33&lt;00:00, 140.55s/epoch]"
          }
        },
        "fffeb0fe0baf495d998ef9ac803779c1": {
          "model_module": "@jupyter-widgets/base",
          "model_name": "LayoutModel",
          "model_module_version": "1.2.0",
          "state": {
            "_model_module": "@jupyter-widgets/base",
            "_model_module_version": "1.2.0",
            "_model_name": "LayoutModel",
            "_view_count": null,
            "_view_module": "@jupyter-widgets/base",
            "_view_module_version": "1.2.0",
            "_view_name": "LayoutView",
            "align_content": null,
            "align_items": null,
            "align_self": null,
            "border": null,
            "bottom": null,
            "display": null,
            "flex": null,
            "flex_flow": null,
            "grid_area": null,
            "grid_auto_columns": null,
            "grid_auto_flow": null,
            "grid_auto_rows": null,
            "grid_column": null,
            "grid_gap": null,
            "grid_row": null,
            "grid_template_areas": null,
            "grid_template_columns": null,
            "grid_template_rows": null,
            "height": null,
            "justify_content": null,
            "justify_items": null,
            "left": null,
            "margin": null,
            "max_height": null,
            "max_width": null,
            "min_height": null,
            "min_width": null,
            "object_fit": null,
            "object_position": null,
            "order": null,
            "overflow": null,
            "overflow_x": null,
            "overflow_y": null,
            "padding": null,
            "right": null,
            "top": null,
            "visibility": null,
            "width": null
          }
        },
        "234452bc47d049a6b21f0a19a5659191": {
          "model_module": "@jupyter-widgets/base",
          "model_name": "LayoutModel",
          "model_module_version": "1.2.0",
          "state": {
            "_model_module": "@jupyter-widgets/base",
            "_model_module_version": "1.2.0",
            "_model_name": "LayoutModel",
            "_view_count": null,
            "_view_module": "@jupyter-widgets/base",
            "_view_module_version": "1.2.0",
            "_view_name": "LayoutView",
            "align_content": null,
            "align_items": null,
            "align_self": null,
            "border": null,
            "bottom": null,
            "display": null,
            "flex": null,
            "flex_flow": null,
            "grid_area": null,
            "grid_auto_columns": null,
            "grid_auto_flow": null,
            "grid_auto_rows": null,
            "grid_column": null,
            "grid_gap": null,
            "grid_row": null,
            "grid_template_areas": null,
            "grid_template_columns": null,
            "grid_template_rows": null,
            "height": null,
            "justify_content": null,
            "justify_items": null,
            "left": null,
            "margin": null,
            "max_height": null,
            "max_width": null,
            "min_height": null,
            "min_width": null,
            "object_fit": null,
            "object_position": null,
            "order": null,
            "overflow": null,
            "overflow_x": null,
            "overflow_y": null,
            "padding": null,
            "right": null,
            "top": null,
            "visibility": null,
            "width": null
          }
        },
        "aa0041a4b8a84382a4770168b4fa4e42": {
          "model_module": "@jupyter-widgets/controls",
          "model_name": "DescriptionStyleModel",
          "model_module_version": "1.5.0",
          "state": {
            "_model_module": "@jupyter-widgets/controls",
            "_model_module_version": "1.5.0",
            "_model_name": "DescriptionStyleModel",
            "_view_count": null,
            "_view_module": "@jupyter-widgets/base",
            "_view_module_version": "1.2.0",
            "_view_name": "StyleView",
            "description_width": ""
          }
        },
        "d403ec1dfdc8446c87bbbd9282cfdd73": {
          "model_module": "@jupyter-widgets/base",
          "model_name": "LayoutModel",
          "model_module_version": "1.2.0",
          "state": {
            "_model_module": "@jupyter-widgets/base",
            "_model_module_version": "1.2.0",
            "_model_name": "LayoutModel",
            "_view_count": null,
            "_view_module": "@jupyter-widgets/base",
            "_view_module_version": "1.2.0",
            "_view_name": "LayoutView",
            "align_content": null,
            "align_items": null,
            "align_self": null,
            "border": null,
            "bottom": null,
            "display": null,
            "flex": null,
            "flex_flow": null,
            "grid_area": null,
            "grid_auto_columns": null,
            "grid_auto_flow": null,
            "grid_auto_rows": null,
            "grid_column": null,
            "grid_gap": null,
            "grid_row": null,
            "grid_template_areas": null,
            "grid_template_columns": null,
            "grid_template_rows": null,
            "height": null,
            "justify_content": null,
            "justify_items": null,
            "left": null,
            "margin": null,
            "max_height": null,
            "max_width": null,
            "min_height": null,
            "min_width": null,
            "object_fit": null,
            "object_position": null,
            "order": null,
            "overflow": null,
            "overflow_x": null,
            "overflow_y": null,
            "padding": null,
            "right": null,
            "top": null,
            "visibility": null,
            "width": null
          }
        },
        "7ec4a387bda24be6be20c158cf4d5c3e": {
          "model_module": "@jupyter-widgets/controls",
          "model_name": "ProgressStyleModel",
          "model_module_version": "1.5.0",
          "state": {
            "_model_module": "@jupyter-widgets/controls",
            "_model_module_version": "1.5.0",
            "_model_name": "ProgressStyleModel",
            "_view_count": null,
            "_view_module": "@jupyter-widgets/base",
            "_view_module_version": "1.2.0",
            "_view_name": "StyleView",
            "bar_color": null,
            "description_width": ""
          }
        },
        "ff95d18ecf4340ee86b5086a4521e1c6": {
          "model_module": "@jupyter-widgets/base",
          "model_name": "LayoutModel",
          "model_module_version": "1.2.0",
          "state": {
            "_model_module": "@jupyter-widgets/base",
            "_model_module_version": "1.2.0",
            "_model_name": "LayoutModel",
            "_view_count": null,
            "_view_module": "@jupyter-widgets/base",
            "_view_module_version": "1.2.0",
            "_view_name": "LayoutView",
            "align_content": null,
            "align_items": null,
            "align_self": null,
            "border": null,
            "bottom": null,
            "display": null,
            "flex": null,
            "flex_flow": null,
            "grid_area": null,
            "grid_auto_columns": null,
            "grid_auto_flow": null,
            "grid_auto_rows": null,
            "grid_column": null,
            "grid_gap": null,
            "grid_row": null,
            "grid_template_areas": null,
            "grid_template_columns": null,
            "grid_template_rows": null,
            "height": null,
            "justify_content": null,
            "justify_items": null,
            "left": null,
            "margin": null,
            "max_height": null,
            "max_width": null,
            "min_height": null,
            "min_width": null,
            "object_fit": null,
            "object_position": null,
            "order": null,
            "overflow": null,
            "overflow_x": null,
            "overflow_y": null,
            "padding": null,
            "right": null,
            "top": null,
            "visibility": null,
            "width": null
          }
        },
        "1e5cd6839f174bb0885f13ee140196cc": {
          "model_module": "@jupyter-widgets/controls",
          "model_name": "DescriptionStyleModel",
          "model_module_version": "1.5.0",
          "state": {
            "_model_module": "@jupyter-widgets/controls",
            "_model_module_version": "1.5.0",
            "_model_name": "DescriptionStyleModel",
            "_view_count": null,
            "_view_module": "@jupyter-widgets/base",
            "_view_module_version": "1.2.0",
            "_view_name": "StyleView",
            "description_width": ""
          }
        }
      }
    },
    "accelerator": "GPU"
  },
  "cells": [
    {
      "cell_type": "code",
      "source": [
        "!pip install torch torchvision torchaudio"
      ],
      "metadata": {
        "colab": {
          "base_uri": "https://localhost:8080/"
        },
        "id": "9AaSImenFc8M",
        "outputId": "ae3da2fc-4760-4f10-f973-05ede08e25bf"
      },
      "execution_count": 1,
      "outputs": [
        {
          "output_type": "stream",
          "name": "stdout",
          "text": [
            "Requirement already satisfied: torch in /usr/local/lib/python3.10/dist-packages (2.5.0+cu121)\n",
            "Requirement already satisfied: torchvision in /usr/local/lib/python3.10/dist-packages (0.20.0+cu121)\n",
            "Requirement already satisfied: torchaudio in /usr/local/lib/python3.10/dist-packages (2.5.0+cu121)\n",
            "Requirement already satisfied: filelock in /usr/local/lib/python3.10/dist-packages (from torch) (3.16.1)\n",
            "Requirement already satisfied: typing-extensions>=4.8.0 in /usr/local/lib/python3.10/dist-packages (from torch) (4.12.2)\n",
            "Requirement already satisfied: networkx in /usr/local/lib/python3.10/dist-packages (from torch) (3.4.2)\n",
            "Requirement already satisfied: jinja2 in /usr/local/lib/python3.10/dist-packages (from torch) (3.1.4)\n",
            "Requirement already satisfied: fsspec in /usr/local/lib/python3.10/dist-packages (from torch) (2024.6.1)\n",
            "Requirement already satisfied: sympy==1.13.1 in /usr/local/lib/python3.10/dist-packages (from torch) (1.13.1)\n",
            "Requirement already satisfied: mpmath<1.4,>=1.1.0 in /usr/local/lib/python3.10/dist-packages (from sympy==1.13.1->torch) (1.3.0)\n",
            "Requirement already satisfied: numpy in /usr/local/lib/python3.10/dist-packages (from torchvision) (1.26.4)\n",
            "Requirement already satisfied: pillow!=8.3.*,>=5.3.0 in /usr/local/lib/python3.10/dist-packages (from torchvision) (10.4.0)\n",
            "Requirement already satisfied: MarkupSafe>=2.0 in /usr/local/lib/python3.10/dist-packages (from jinja2->torch) (3.0.2)\n"
          ]
        }
      ]
    },
    {
      "cell_type": "code",
      "source": [
        "!pip install opacus"
      ],
      "metadata": {
        "colab": {
          "base_uri": "https://localhost:8080/"
        },
        "id": "YQAolC_XFh-i",
        "outputId": "8507930a-72f4-4654-adb7-880f6a6adb01"
      },
      "execution_count": 2,
      "outputs": [
        {
          "output_type": "stream",
          "name": "stdout",
          "text": [
            "Collecting opacus\n",
            "  Downloading opacus-1.5.2-py3-none-any.whl.metadata (7.9 kB)\n",
            "Requirement already satisfied: numpy<2.0,>=1.15 in /usr/local/lib/python3.10/dist-packages (from opacus) (1.26.4)\n",
            "Requirement already satisfied: torch>=2.0 in /usr/local/lib/python3.10/dist-packages (from opacus) (2.5.0+cu121)\n",
            "Requirement already satisfied: scipy>=1.2 in /usr/local/lib/python3.10/dist-packages (from opacus) (1.13.1)\n",
            "Requirement already satisfied: opt-einsum>=3.3.0 in /usr/local/lib/python3.10/dist-packages (from opacus) (3.4.0)\n",
            "Requirement already satisfied: filelock in /usr/local/lib/python3.10/dist-packages (from torch>=2.0->opacus) (3.16.1)\n",
            "Requirement already satisfied: typing-extensions>=4.8.0 in /usr/local/lib/python3.10/dist-packages (from torch>=2.0->opacus) (4.12.2)\n",
            "Requirement already satisfied: networkx in /usr/local/lib/python3.10/dist-packages (from torch>=2.0->opacus) (3.4.2)\n",
            "Requirement already satisfied: jinja2 in /usr/local/lib/python3.10/dist-packages (from torch>=2.0->opacus) (3.1.4)\n",
            "Requirement already satisfied: fsspec in /usr/local/lib/python3.10/dist-packages (from torch>=2.0->opacus) (2024.6.1)\n",
            "Requirement already satisfied: sympy==1.13.1 in /usr/local/lib/python3.10/dist-packages (from torch>=2.0->opacus) (1.13.1)\n",
            "Requirement already satisfied: mpmath<1.4,>=1.1.0 in /usr/local/lib/python3.10/dist-packages (from sympy==1.13.1->torch>=2.0->opacus) (1.3.0)\n",
            "Requirement already satisfied: MarkupSafe>=2.0 in /usr/local/lib/python3.10/dist-packages (from jinja2->torch>=2.0->opacus) (3.0.2)\n",
            "Downloading opacus-1.5.2-py3-none-any.whl (239 kB)\n",
            "\u001b[?25l   \u001b[90m━━━━━━━━━━━━━━━━━━━━━━━━━━━━━━━━━━━━━━━━\u001b[0m \u001b[32m0.0/239.9 kB\u001b[0m \u001b[31m?\u001b[0m eta \u001b[36m-:--:--\u001b[0m\r\u001b[2K   \u001b[90m━━━━━━━━━━━━━━━━━━━━━━━━━━━━━━━━━━━━━━━━\u001b[0m \u001b[32m239.9/239.9 kB\u001b[0m \u001b[31m9.0 MB/s\u001b[0m eta \u001b[36m0:00:00\u001b[0m\n",
            "\u001b[?25hInstalling collected packages: opacus\n",
            "Successfully installed opacus-1.5.2\n"
          ]
        }
      ]
    },
    {
      "cell_type": "code",
      "execution_count": 3,
      "metadata": {
        "id": "OXx2SksCFVXv"
      },
      "outputs": [],
      "source": [
        "import warnings\n",
        "warnings.simplefilter(\"ignore\")\n",
        "\n",
        "#MAX_GRAD_NORM = 1.2\n",
        "EPSILON = 3.0\n",
        "DELTA = 1e-5\n",
        "EPOCHS = 25\n",
        "\n",
        "#Adaptive Clipping\n",
        "initial_clip_norm = 1.0\n",
        "eta_C = 0.2  # Learning rate for updating the clipping norm\n",
        "target_quantile = 0.5  # Target quantile, e.g., 0.5 for the median\n",
        "\n",
        "LR = 0.5"
      ]
    },
    {
      "cell_type": "code",
      "source": [
        "BATCH_SIZE = 2048\n",
        "MAX_PHYSICAL_BATCH_SIZE = 128"
      ],
      "metadata": {
        "id": "-pcI3wYLFnoW"
      },
      "execution_count": 4,
      "outputs": []
    },
    {
      "cell_type": "code",
      "source": [
        "import torch\n",
        "import torchvision\n",
        "import torchvision.transforms as transforms\n",
        "\n",
        "# These values, specific to the CIFAR10 dataset, are assumed to be known.\n",
        "# If necessary, they can be computed with modest privacy budgets.\n",
        "CIFAR10_MEAN = (0.4914, 0.4822, 0.4465)\n",
        "CIFAR10_STD_DEV = (0.2023, 0.1994, 0.2010)\n",
        "\n",
        "transform = transforms.Compose([\n",
        "    transforms.ToTensor(),\n",
        "    transforms.Normalize(CIFAR10_MEAN, CIFAR10_STD_DEV),\n",
        "])"
      ],
      "metadata": {
        "id": "PBbPBCZGFpb-"
      },
      "execution_count": 5,
      "outputs": []
    },
    {
      "cell_type": "code",
      "source": [
        "from torchvision.datasets import CIFAR10\n",
        "\n",
        "DATA_ROOT = '../cifar10'\n",
        "\n",
        "train_dataset = CIFAR10(\n",
        "    root=DATA_ROOT, train=True, download=True, transform=transform)\n",
        "\n",
        "train_loader = torch.utils.data.DataLoader(\n",
        "    train_dataset,\n",
        "    batch_size=BATCH_SIZE,\n",
        ")\n",
        "\n",
        "test_dataset = CIFAR10(\n",
        "    root=DATA_ROOT, train=False, download=True, transform=transform)\n",
        "\n",
        "test_loader = torch.utils.data.DataLoader(\n",
        "    test_dataset,\n",
        "    batch_size=BATCH_SIZE,\n",
        "    shuffle=False,\n",
        ")"
      ],
      "metadata": {
        "colab": {
          "base_uri": "https://localhost:8080/"
        },
        "id": "ycYpgyoVFs1T",
        "outputId": "63019aa1-68c2-4bbd-9f57-8cc145ea7eee"
      },
      "execution_count": 6,
      "outputs": [
        {
          "output_type": "stream",
          "name": "stdout",
          "text": [
            "Downloading https://www.cs.toronto.edu/~kriz/cifar-10-python.tar.gz to ../cifar10/cifar-10-python.tar.gz\n"
          ]
        },
        {
          "output_type": "stream",
          "name": "stderr",
          "text": [
            "100%|██████████| 170M/170M [00:05<00:00, 30.8MB/s]\n"
          ]
        },
        {
          "output_type": "stream",
          "name": "stdout",
          "text": [
            "Extracting ../cifar10/cifar-10-python.tar.gz to ../cifar10\n",
            "Files already downloaded and verified\n"
          ]
        }
      ]
    },
    {
      "cell_type": "markdown",
      "source": [
        "### **ResNet-n from torch**"
      ],
      "metadata": {
        "id": "Drv5qY6OKqjk"
      }
    },
    {
      "cell_type": "code",
      "source": [
        "from torchvision import models"
      ],
      "metadata": {
        "id": "UeAejaeyFvJR"
      },
      "execution_count": null,
      "outputs": []
    },
    {
      "cell_type": "markdown",
      "source": [
        "### **ResNet20 (with Adaptive Clipping)**"
      ],
      "metadata": {
        "id": "lYm-LBfyKdIG"
      }
    },
    {
      "cell_type": "code",
      "source": [
        "import torch\n",
        "import torch.nn as nn\n",
        "import torch.nn.functional as F"
      ],
      "metadata": {
        "id": "rWZ9TeOnJcd6"
      },
      "execution_count": 7,
      "outputs": []
    },
    {
      "cell_type": "code",
      "source": [
        "import torch\n",
        "import torch.nn as nn\n",
        "import torch.nn.functional as F\n",
        "import numpy as np\n",
        "from opacus import PrivacyEngine\n",
        "\n",
        "# Weight Standardized Convolution Layer\n",
        "class WSConv2d(nn.Conv2d):\n",
        "    def forward(self, x):\n",
        "        # Weight standardization\n",
        "        mean = self.weight.mean(dim=[1, 2, 3], keepdim=True)\n",
        "        std = self.weight.std(dim=[1, 2, 3], keepdim=True)\n",
        "        weight_standardized = (self.weight - mean) / (std + 1e-5)\n",
        "        return F.conv2d(x, weight_standardized, self.bias, self.stride,\n",
        "                        self.padding, self.dilation, self.groups)\n",
        "\n",
        "# Basic Block for WRN-16-4\n",
        "class BasicBlockWS(nn.Module):\n",
        "    def __init__(self, in_planes, out_planes, stride, num_groups, dropRate=0.0):\n",
        "        super(BasicBlockWS, self).__init__()\n",
        "        self.gn1 = nn.GroupNorm(num_groups, in_planes)  # GroupNorm\n",
        "        self.relu = nn.ReLU(inplace=True)\n",
        "        self.conv1 = WSConv2d(in_planes, out_planes, kernel_size=3, stride=stride, padding=1, bias=False)\n",
        "        self.gn2 = nn.GroupNorm(num_groups, out_planes)  # GroupNorm\n",
        "        self.conv2 = WSConv2d(out_planes, out_planes, kernel_size=3, stride=1, padding=1, bias=False)\n",
        "        self.dropRate = dropRate\n",
        "\n",
        "        # Shortcut connection\n",
        "        self.equalInOut = (in_planes == out_planes)\n",
        "        self.shortcut = (not self.equalInOut) and WSConv2d(in_planes, out_planes, kernel_size=1, stride=stride, padding=0, bias=False) or None\n",
        "\n",
        "    def forward(self, x):\n",
        "        if not self.equalInOut:\n",
        "            x = self.relu(self.gn1(x))\n",
        "        out = self.relu(self.gn1(x if self.equalInOut else x))\n",
        "        out = self.conv1(out)\n",
        "        out = self.gn2(out)\n",
        "        if self.dropRate > 0:\n",
        "            out = F.dropout(out, p=self.dropRate, training=self.training)\n",
        "        out = self.conv2(out)\n",
        "        return torch.add(x if self.equalInOut else self.shortcut(x), out)\n",
        "\n",
        "# WRN-16-4 with GroupNorm\n",
        "class WideResNetWS(nn.Module):\n",
        "    def __init__(self, depth, widen_factor, num_classes=10, dropRate=0.0):\n",
        "        super(WideResNetWS, self).__init__()\n",
        "        nChannels = [16, 16*widen_factor, 32*widen_factor, 64*widen_factor]\n",
        "        assert ((depth - 4) % 6 == 0)\n",
        "        n = (depth - 4) // 6\n",
        "        block = BasicBlockWS\n",
        "        self.in_channels = 16\n",
        "\n",
        "        # Initial convolutional layer\n",
        "        self.conv1 = WSConv2d(3, self.in_channels, kernel_size=3, stride=1, padding=1, bias=False)\n",
        "        self.gn1 = nn.GroupNorm(4, self.in_channels)  # GroupNorm for DP compatibility\n",
        "\n",
        "        # Residual blocks with GroupNorm\n",
        "        self.layer1 = self._make_layer(block, nChannels[0], nChannels[1], n, stride=1, num_groups=4, dropRate=dropRate)\n",
        "        self.layer2 = self._make_layer(block, nChannels[1], nChannels[2], n, stride=2, num_groups=8, dropRate=dropRate)\n",
        "        self.layer3 = self._make_layer(block, nChannels[2], nChannels[3], n, stride=2, num_groups=16, dropRate=dropRate)\n",
        "\n",
        "        # Fully connected layer\n",
        "        self.fc = nn.Linear(nChannels[3], num_classes)\n",
        "\n",
        "    def _make_layer(self, block, in_planes, out_planes, num_blocks, stride, num_groups, dropRate):\n",
        "        layers = []\n",
        "        for _ in range(num_blocks):\n",
        "            layers.append(block(in_planes, out_planes, stride, num_groups=num_groups, dropRate=dropRate))\n",
        "            in_planes = out_planes\n",
        "            stride = 1  # Only the first block has a stride > 1\n",
        "        return nn.Sequential(*layers)\n",
        "\n",
        "    def forward(self, x):\n",
        "        out = F.relu(self.gn1(self.conv1(x)))\n",
        "        out = self.layer1(out)\n",
        "        out = self.layer2(out)\n",
        "        out = self.layer3(out)\n",
        "        out = F.avg_pool2d(out, 8)\n",
        "        out = out.view(out.size(0), -1)\n",
        "        out = self.fc(out)\n",
        "        return out\n",
        "\n",
        "\n"
      ],
      "metadata": {
        "id": "rhpRnIcOL80C"
      },
      "execution_count": 8,
      "outputs": []
    },
    {
      "cell_type": "markdown",
      "source": [
        "### Model Assignment"
      ],
      "metadata": {
        "id": "DvtegZm1XY3F"
      }
    },
    {
      "cell_type": "code",
      "source": [
        "# Instantiate WRN-16-4\n",
        "model = WideResNetWS(depth=16, widen_factor=4, num_classes=10)"
      ],
      "metadata": {
        "id": "Rd7j9ehaK0yh"
      },
      "execution_count": 9,
      "outputs": []
    },
    {
      "cell_type": "code",
      "source": [
        "from opacus.validators import ModuleValidator\n",
        "\n",
        "errors = ModuleValidator.validate(model, strict=False)\n",
        "errors[-5:]"
      ],
      "metadata": {
        "colab": {
          "base_uri": "https://localhost:8080/"
        },
        "id": "Kmb1UL1OFycC",
        "outputId": "7cfff6db-8fd9-4ca0-b919-1c261cafe53b"
      },
      "execution_count": 10,
      "outputs": [
        {
          "output_type": "execute_result",
          "data": {
            "text/plain": [
              "[]"
            ]
          },
          "metadata": {},
          "execution_count": 10
        }
      ]
    },
    {
      "cell_type": "code",
      "source": [
        "model = ModuleValidator.fix(model)\n",
        "ModuleValidator.validate(model, strict=False)"
      ],
      "metadata": {
        "colab": {
          "base_uri": "https://localhost:8080/"
        },
        "id": "CORRbNMzF3GO",
        "outputId": "52bd310d-bda3-489c-c81b-53c53a0d0d76"
      },
      "execution_count": 11,
      "outputs": [
        {
          "output_type": "execute_result",
          "data": {
            "text/plain": [
              "[]"
            ]
          },
          "metadata": {},
          "execution_count": 11
        }
      ]
    },
    {
      "cell_type": "code",
      "source": [
        "device = torch.device(\"cuda\" if torch.cuda.is_available() else \"cpu\")\n",
        "\n",
        "model = model.to(device)"
      ],
      "metadata": {
        "id": "2aiLjxaJF7NM"
      },
      "execution_count": 12,
      "outputs": []
    },
    {
      "cell_type": "code",
      "source": [
        "import torch.nn as nn\n",
        "import torch.optim as optim\n",
        "\n",
        "criterion = nn.CrossEntropyLoss()\n",
        "optimizer = optim.SGD(model.parameters(), lr=LR, momentum=0.9)"
      ],
      "metadata": {
        "id": "MPyD5vJiF8nJ"
      },
      "execution_count": 13,
      "outputs": []
    },
    {
      "cell_type": "code",
      "source": [
        "def accuracy(preds, labels):\n",
        "    return (preds == labels).mean()"
      ],
      "metadata": {
        "id": "uBBTGgtvF_wA"
      },
      "execution_count": 14,
      "outputs": []
    },
    {
      "cell_type": "code",
      "source": [
        "from opacus import PrivacyEngine\n",
        "\n",
        "privacy_engine = PrivacyEngine()\n",
        "\n",
        "model, optimizer, train_loader = privacy_engine.make_private_with_epsilon(\n",
        "    module=model,\n",
        "    optimizer=optimizer,\n",
        "    data_loader=train_loader,\n",
        "    epochs=EPOCHS,\n",
        "    target_epsilon=EPSILON,\n",
        "    target_delta=DELTA,\n",
        "    max_grad_norm=1.0,  #Starting with grad norm as 1 and adjusting it during training according to the specific quantile of the gradient norm distribution\n",
        ")\n",
        "\n",
        "print(f\"Using sigma={optimizer.noise_multiplier} and C=1.0\")"
      ],
      "metadata": {
        "colab": {
          "base_uri": "https://localhost:8080/"
        },
        "id": "1Sfq362zGDvM",
        "outputId": "2635c31a-3c9e-411f-ec6f-8213e020c31d"
      },
      "execution_count": 15,
      "outputs": [
        {
          "output_type": "stream",
          "name": "stdout",
          "text": [
            "Using sigma=1.61376953125 and C=1.0\n"
          ]
        }
      ]
    },
    {
      "cell_type": "code",
      "source": [
        "def adaptive_clipping(grad_norms, clip_norm, target_quantile, eta_C):   #Adjusts the clipping norm using geometric updates to match a target quantile.\n",
        "    #Calculate the fraction of gradients below the current clip norm\n",
        "    clipped_fraction = np.mean(grad_norms <= clip_norm)\n",
        "\n",
        "    #Update the clipping norm\n",
        "    new_clip_norm = clip_norm * np.exp(-eta_C * (clipped_fraction - target_quantile))\n",
        "    return new_clip_norm\n",
        "\n",
        "def calculate_grad_norms(model):    #Calculates the L2 norm of gradients for each parameter in the model.\n",
        "    grad_norms = []\n",
        "    for p in model.parameters():\n",
        "        if p.grad is not None:\n",
        "            grad_norms.append(p.grad.data.norm(2).item())\n",
        "    return np.array(grad_norms)"
      ],
      "metadata": {
        "id": "sOOFvY06jHDb"
      },
      "execution_count": 16,
      "outputs": []
    },
    {
      "cell_type": "code",
      "source": [
        "import numpy as np\n",
        "from opacus.utils.batch_memory_manager import BatchMemoryManager\n",
        "\n",
        "def train(model, train_loader, optimizer, epoch, device):\n",
        "    model.train()\n",
        "    criterion = nn.CrossEntropyLoss()\n",
        "\n",
        "    losses = []\n",
        "    top1_acc = []\n",
        "    clip_norm = initial_clip_norm  #Start with an initial clip norm\n",
        "\n",
        "    with BatchMemoryManager(\n",
        "        data_loader=train_loader,\n",
        "        max_physical_batch_size=MAX_PHYSICAL_BATCH_SIZE,\n",
        "        optimizer=optimizer\n",
        "    ) as memory_safe_data_loader:\n",
        "\n",
        "        for i, (images, target) in enumerate(memory_safe_data_loader):\n",
        "            optimizer.zero_grad()\n",
        "            images = images.to(device)\n",
        "            target = target.to(device)\n",
        "\n",
        "            #compute output\n",
        "            output = model(images)\n",
        "            loss = criterion(output, target)\n",
        "\n",
        "            preds = np.argmax(output.detach().cpu().numpy(), axis=1)\n",
        "            labels = target.detach().cpu().numpy()\n",
        "\n",
        "            #measure accuracy and record loss\n",
        "            acc = accuracy(preds, labels)\n",
        "\n",
        "            losses.append(loss.item())\n",
        "            top1_acc.append(acc)\n",
        "\n",
        "            loss.backward()\n",
        "\n",
        "            #Adaptive Clipping\n",
        "            #Calculate gradient norms for the current batch\n",
        "            grad_norms = calculate_grad_norms(model)\n",
        "            #Update the clipping norm based on gradient norms\n",
        "            clip_norm = adaptive_clipping(grad_norms, clip_norm, target_quantile, eta_C)\n",
        "            #Clip gradients to the updated norm\n",
        "            torch.nn.utils.clip_grad_norm_(model.parameters(), clip_norm)\n",
        "\n",
        "            #Grouped Gradient Clipping\n",
        "            '''\n",
        "            clip_gradients_by_group(model, grouped_clipping_norms)\n",
        "            '''\n",
        "\n",
        "            optimizer.step()\n",
        "\n",
        "            if (i+1) % 200 == 0:\n",
        "                epsilon = privacy_engine.get_epsilon(DELTA)\n",
        "                print(\n",
        "                    f\"\\tTrain Epoch: {epoch} \\t\"\n",
        "                    f\"Loss: {np.mean(losses):.6f} \"\n",
        "                    f\"Acc@1: {np.mean(top1_acc) * 100:.6f} \"\n",
        "                    f\"(ε = {epsilon:.2f}, δ = {DELTA})\"\n",
        "                )\n",
        "    mean_loss = np.mean(losses)\n",
        "    mean_acc = np.mean(top1_acc)\n",
        "    return mean_loss, mean_acc"
      ],
      "metadata": {
        "id": "pwnw-AeZGEfw"
      },
      "execution_count": 17,
      "outputs": []
    },
    {
      "cell_type": "code",
      "source": [
        "def test(model, test_loader, device):\n",
        "    model.eval()\n",
        "    criterion = nn.CrossEntropyLoss()\n",
        "    losses = []\n",
        "    top1_acc = []\n",
        "\n",
        "    with torch.no_grad():\n",
        "        for images, target in test_loader:\n",
        "            images = images.to(device)\n",
        "            target = target.to(device)\n",
        "\n",
        "            output = model(images)\n",
        "            loss = criterion(output, target)\n",
        "            preds = np.argmax(output.detach().cpu().numpy(), axis=1)\n",
        "            labels = target.detach().cpu().numpy()\n",
        "            acc = accuracy(preds, labels)\n",
        "\n",
        "            losses.append(loss.item())\n",
        "            top1_acc.append(acc)\n",
        "\n",
        "    top1_avg = np.mean(top1_acc)\n",
        "\n",
        "    print(\n",
        "        f\"\\tTest set:\"\n",
        "        f\"Loss: {np.mean(losses):.6f} \"\n",
        "        f\"Acc: {top1_avg * 100:.6f} \"\n",
        "    )\n",
        "    # return np.mean(top1_acc)\n",
        "    mean_loss = np.mean(losses)\n",
        "    mean_acc = np.mean(top1_acc)\n",
        "    return mean_loss, mean_acc"
      ],
      "metadata": {
        "id": "LIeFSlNWGIEn"
      },
      "execution_count": 18,
      "outputs": []
    },
    {
      "cell_type": "code",
      "source": [
        "from tqdm.notebook import tqdm\n",
        "\n",
        "for epoch in tqdm(range(EPOCHS), desc=\"Epoch\", unit=\"epoch\"):\n",
        "    train(model, train_loader, optimizer, epoch + 1, device)"
      ],
      "metadata": {
        "colab": {
          "base_uri": "https://localhost:8080/",
          "height": 931,
          "referenced_widgets": [
            "650cf1e12ce349b3b42ce9001d6aa30a",
            "b1f0ddcda4ae43a994396833f37773b1",
            "c010b13cc53f48ef9719ba1ae7e8b3cd",
            "32baf63b721a4d4291da8abc71b70d32",
            "fffeb0fe0baf495d998ef9ac803779c1",
            "234452bc47d049a6b21f0a19a5659191",
            "aa0041a4b8a84382a4770168b4fa4e42",
            "d403ec1dfdc8446c87bbbd9282cfdd73",
            "7ec4a387bda24be6be20c158cf4d5c3e",
            "ff95d18ecf4340ee86b5086a4521e1c6",
            "1e5cd6839f174bb0885f13ee140196cc"
          ]
        },
        "id": "GMzFi558GLoE",
        "outputId": "bb1eb88f-7c68-41ea-b905-e1e14e53a4ed"
      },
      "execution_count": 19,
      "outputs": [
        {
          "output_type": "display_data",
          "data": {
            "text/plain": [
              "Epoch:   0%|          | 0/25 [00:00<?, ?epoch/s]"
            ],
            "application/vnd.jupyter.widget-view+json": {
              "version_major": 2,
              "version_minor": 0,
              "model_id": "650cf1e12ce349b3b42ce9001d6aa30a"
            }
          },
          "metadata": {}
        },
        {
          "output_type": "stream",
          "name": "stdout",
          "text": [
            "\tTrain Epoch: 1 \tLoss: 7.379809 Acc@1: 20.297936 (ε = 0.49, δ = 1e-05)\n",
            "\tTrain Epoch: 2 \tLoss: 3.289516 Acc@1: 38.525541 (ε = 0.75, δ = 1e-05)\n",
            "\tTrain Epoch: 2 \tLoss: 3.259066 Acc@1: 39.906320 (ε = 0.86, δ = 1e-05)\n",
            "\tTrain Epoch: 3 \tLoss: 3.225053 Acc@1: 42.272590 (ε = 0.95, δ = 1e-05)\n",
            "\tTrain Epoch: 3 \tLoss: 3.233252 Acc@1: 42.888495 (ε = 1.03, δ = 1e-05)\n",
            "\tTrain Epoch: 4 \tLoss: 3.176733 Acc@1: 44.110448 (ε = 1.11, δ = 1e-05)\n",
            "\tTrain Epoch: 4 \tLoss: 3.113922 Acc@1: 45.339192 (ε = 1.18, δ = 1e-05)\n",
            "\tTrain Epoch: 5 \tLoss: 3.082169 Acc@1: 47.275910 (ε = 1.25, δ = 1e-05)\n",
            "\tTrain Epoch: 5 \tLoss: 3.084711 Acc@1: 48.000198 (ε = 1.31, δ = 1e-05)\n",
            "\tTrain Epoch: 6 \tLoss: 3.024997 Acc@1: 49.146163 (ε = 1.38, δ = 1e-05)\n",
            "\tTrain Epoch: 6 \tLoss: 3.046153 Acc@1: 49.375294 (ε = 1.43, δ = 1e-05)\n",
            "\tTrain Epoch: 7 \tLoss: 2.899478 Acc@1: 50.203543 (ε = 1.49, δ = 1e-05)\n",
            "\tTrain Epoch: 7 \tLoss: 2.988860 Acc@1: 50.010574 (ε = 1.55, δ = 1e-05)\n",
            "\tTrain Epoch: 8 \tLoss: 2.974524 Acc@1: 50.929979 (ε = 1.60, δ = 1e-05)\n",
            "\tTrain Epoch: 8 \tLoss: 2.965400 Acc@1: 51.098514 (ε = 1.65, δ = 1e-05)\n",
            "\tTrain Epoch: 9 \tLoss: 2.925947 Acc@1: 51.990755 (ε = 1.71, δ = 1e-05)\n",
            "\tTrain Epoch: 10 \tLoss: 3.043766 Acc@1: 52.064192 (ε = 1.81, δ = 1e-05)\n",
            "\tTrain Epoch: 10 \tLoss: 3.023492 Acc@1: 52.387597 (ε = 1.85, δ = 1e-05)\n",
            "\tTrain Epoch: 11 \tLoss: 2.977366 Acc@1: 53.101786 (ε = 1.90, δ = 1e-05)\n",
            "\tTrain Epoch: 11 \tLoss: 3.021601 Acc@1: 52.916606 (ε = 1.95, δ = 1e-05)\n",
            "\tTrain Epoch: 12 \tLoss: 3.112669 Acc@1: 52.715079 (ε = 1.99, δ = 1e-05)\n",
            "\tTrain Epoch: 12 \tLoss: 3.099803 Acc@1: 52.846231 (ε = 2.03, δ = 1e-05)\n",
            "\tTrain Epoch: 13 \tLoss: 3.062261 Acc@1: 53.867381 (ε = 2.08, δ = 1e-05)\n",
            "\tTrain Epoch: 13 \tLoss: 3.096381 Acc@1: 53.732154 (ε = 2.12, δ = 1e-05)\n",
            "\tTrain Epoch: 14 \tLoss: 3.203992 Acc@1: 53.240116 (ε = 2.16, δ = 1e-05)\n",
            "\tTrain Epoch: 14 \tLoss: 3.089541 Acc@1: 53.709749 (ε = 2.20, δ = 1e-05)\n",
            "\tTrain Epoch: 15 \tLoss: 2.930045 Acc@1: 55.394339 (ε = 2.25, δ = 1e-05)\n",
            "\tTrain Epoch: 15 \tLoss: 2.921227 Acc@1: 55.426302 (ε = 2.28, δ = 1e-05)\n",
            "\tTrain Epoch: 16 \tLoss: 3.043231 Acc@1: 54.976004 (ε = 2.32, δ = 1e-05)\n",
            "\tTrain Epoch: 16 \tLoss: 2.993214 Acc@1: 54.975537 (ε = 2.36, δ = 1e-05)\n",
            "\tTrain Epoch: 17 \tLoss: 2.825942 Acc@1: 56.110030 (ε = 2.40, δ = 1e-05)\n",
            "\tTrain Epoch: 17 \tLoss: 2.888887 Acc@1: 55.737845 (ε = 2.44, δ = 1e-05)\n",
            "\tTrain Epoch: 18 \tLoss: 2.903422 Acc@1: 56.621470 (ε = 2.48, δ = 1e-05)\n",
            "\tTrain Epoch: 18 \tLoss: 2.894171 Acc@1: 56.538268 (ε = 2.51, δ = 1e-05)\n",
            "\tTrain Epoch: 19 \tLoss: 2.849026 Acc@1: 56.794567 (ε = 2.55, δ = 1e-05)\n",
            "\tTrain Epoch: 19 \tLoss: 2.848096 Acc@1: 56.864057 (ε = 2.59, δ = 1e-05)\n",
            "\tTrain Epoch: 20 \tLoss: 2.919499 Acc@1: 56.591488 (ε = 2.62, δ = 1e-05)\n",
            "\tTrain Epoch: 20 \tLoss: 2.935622 Acc@1: 56.645437 (ε = 2.66, δ = 1e-05)\n",
            "\tTrain Epoch: 21 \tLoss: 2.924878 Acc@1: 57.299917 (ε = 2.69, δ = 1e-05)\n",
            "\tTrain Epoch: 21 \tLoss: 2.920560 Acc@1: 57.076181 (ε = 2.73, δ = 1e-05)\n",
            "\tTrain Epoch: 22 \tLoss: 2.890517 Acc@1: 57.278782 (ε = 2.76, δ = 1e-05)\n",
            "\tTrain Epoch: 22 \tLoss: 2.830933 Acc@1: 57.915403 (ε = 2.79, δ = 1e-05)\n",
            "\tTrain Epoch: 23 \tLoss: 2.922371 Acc@1: 57.328579 (ε = 2.83, δ = 1e-05)\n",
            "\tTrain Epoch: 23 \tLoss: 2.954764 Acc@1: 57.590462 (ε = 2.86, δ = 1e-05)\n",
            "\tTrain Epoch: 24 \tLoss: 2.994568 Acc@1: 57.968052 (ε = 2.90, δ = 1e-05)\n",
            "\tTrain Epoch: 24 \tLoss: 2.953791 Acc@1: 58.070407 (ε = 2.93, δ = 1e-05)\n",
            "\tTrain Epoch: 25 \tLoss: 2.861678 Acc@1: 58.804263 (ε = 2.96, δ = 1e-05)\n",
            "\tTrain Epoch: 25 \tLoss: 2.860811 Acc@1: 58.555833 (ε = 2.99, δ = 1e-05)\n"
          ]
        }
      ]
    },
    {
      "cell_type": "code",
      "source": [
        "top1_acc = test(model, test_loader, device)"
      ],
      "metadata": {
        "id": "QqmRoFktGQ-d",
        "colab": {
          "base_uri": "https://localhost:8080/"
        },
        "outputId": "7f34db64-a679-4458-ceef-e03888ed9b32"
      },
      "execution_count": 20,
      "outputs": [
        {
          "output_type": "stream",
          "name": "stdout",
          "text": [
            "\tTest set:Loss: 3.095474 Acc: 55.610740 \n"
          ]
        }
      ]
    }
  ]
}