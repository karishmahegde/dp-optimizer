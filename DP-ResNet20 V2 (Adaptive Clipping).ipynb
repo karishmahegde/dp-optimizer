{
  "nbformat": 4,
  "nbformat_minor": 0,
  "metadata": {
    "colab": {
      "provenance": [],
      "gpuType": "T4"
    },
    "kernelspec": {
      "name": "python3",
      "display_name": "Python 3"
    },
    "language_info": {
      "name": "python"
    },
    "widgets": {
      "application/vnd.jupyter.widget-state+json": {
        "09554510067c4c3ead8e9e33b7d7a929": {
          "model_module": "@jupyter-widgets/controls",
          "model_name": "HBoxModel",
          "model_module_version": "1.5.0",
          "state": {
            "_dom_classes": [],
            "_model_module": "@jupyter-widgets/controls",
            "_model_module_version": "1.5.0",
            "_model_name": "HBoxModel",
            "_view_count": null,
            "_view_module": "@jupyter-widgets/controls",
            "_view_module_version": "1.5.0",
            "_view_name": "HBoxView",
            "box_style": "",
            "children": [
              "IPY_MODEL_5abbfb6fce5346eba2665d517b355f67",
              "IPY_MODEL_9b2414f0e64a4717a068c577dc3b7874",
              "IPY_MODEL_17643083f48d4405a88a85540275730b"
            ],
            "layout": "IPY_MODEL_7f8c33e673044e289e7f91de8bce9f48"
          }
        },
        "5abbfb6fce5346eba2665d517b355f67": {
          "model_module": "@jupyter-widgets/controls",
          "model_name": "HTMLModel",
          "model_module_version": "1.5.0",
          "state": {
            "_dom_classes": [],
            "_model_module": "@jupyter-widgets/controls",
            "_model_module_version": "1.5.0",
            "_model_name": "HTMLModel",
            "_view_count": null,
            "_view_module": "@jupyter-widgets/controls",
            "_view_module_version": "1.5.0",
            "_view_name": "HTMLView",
            "description": "",
            "description_tooltip": null,
            "layout": "IPY_MODEL_07ab1a8664cd4aafb572d27c4da441dd",
            "placeholder": "​",
            "style": "IPY_MODEL_75adc7be034743868f428e038e218cff",
            "value": "Epoch: 100%"
          }
        },
        "9b2414f0e64a4717a068c577dc3b7874": {
          "model_module": "@jupyter-widgets/controls",
          "model_name": "FloatProgressModel",
          "model_module_version": "1.5.0",
          "state": {
            "_dom_classes": [],
            "_model_module": "@jupyter-widgets/controls",
            "_model_module_version": "1.5.0",
            "_model_name": "FloatProgressModel",
            "_view_count": null,
            "_view_module": "@jupyter-widgets/controls",
            "_view_module_version": "1.5.0",
            "_view_name": "ProgressView",
            "bar_style": "success",
            "description": "",
            "description_tooltip": null,
            "layout": "IPY_MODEL_858830e30bcc4a798e0405204d0d695d",
            "max": 15,
            "min": 0,
            "orientation": "horizontal",
            "style": "IPY_MODEL_30ccdb08307442bb8d508f83a960a3d7",
            "value": 15
          }
        },
        "17643083f48d4405a88a85540275730b": {
          "model_module": "@jupyter-widgets/controls",
          "model_name": "HTMLModel",
          "model_module_version": "1.5.0",
          "state": {
            "_dom_classes": [],
            "_model_module": "@jupyter-widgets/controls",
            "_model_module_version": "1.5.0",
            "_model_name": "HTMLModel",
            "_view_count": null,
            "_view_module": "@jupyter-widgets/controls",
            "_view_module_version": "1.5.0",
            "_view_name": "HTMLView",
            "description": "",
            "description_tooltip": null,
            "layout": "IPY_MODEL_a86b8e8bf01b4e2aa57dd60817cec3bb",
            "placeholder": "​",
            "style": "IPY_MODEL_19f9993339c641c2b9f698dfb7d2b714",
            "value": " 15/15 [11:01&lt;00:00, 44.21s/epoch]"
          }
        },
        "7f8c33e673044e289e7f91de8bce9f48": {
          "model_module": "@jupyter-widgets/base",
          "model_name": "LayoutModel",
          "model_module_version": "1.2.0",
          "state": {
            "_model_module": "@jupyter-widgets/base",
            "_model_module_version": "1.2.0",
            "_model_name": "LayoutModel",
            "_view_count": null,
            "_view_module": "@jupyter-widgets/base",
            "_view_module_version": "1.2.0",
            "_view_name": "LayoutView",
            "align_content": null,
            "align_items": null,
            "align_self": null,
            "border": null,
            "bottom": null,
            "display": null,
            "flex": null,
            "flex_flow": null,
            "grid_area": null,
            "grid_auto_columns": null,
            "grid_auto_flow": null,
            "grid_auto_rows": null,
            "grid_column": null,
            "grid_gap": null,
            "grid_row": null,
            "grid_template_areas": null,
            "grid_template_columns": null,
            "grid_template_rows": null,
            "height": null,
            "justify_content": null,
            "justify_items": null,
            "left": null,
            "margin": null,
            "max_height": null,
            "max_width": null,
            "min_height": null,
            "min_width": null,
            "object_fit": null,
            "object_position": null,
            "order": null,
            "overflow": null,
            "overflow_x": null,
            "overflow_y": null,
            "padding": null,
            "right": null,
            "top": null,
            "visibility": null,
            "width": null
          }
        },
        "07ab1a8664cd4aafb572d27c4da441dd": {
          "model_module": "@jupyter-widgets/base",
          "model_name": "LayoutModel",
          "model_module_version": "1.2.0",
          "state": {
            "_model_module": "@jupyter-widgets/base",
            "_model_module_version": "1.2.0",
            "_model_name": "LayoutModel",
            "_view_count": null,
            "_view_module": "@jupyter-widgets/base",
            "_view_module_version": "1.2.0",
            "_view_name": "LayoutView",
            "align_content": null,
            "align_items": null,
            "align_self": null,
            "border": null,
            "bottom": null,
            "display": null,
            "flex": null,
            "flex_flow": null,
            "grid_area": null,
            "grid_auto_columns": null,
            "grid_auto_flow": null,
            "grid_auto_rows": null,
            "grid_column": null,
            "grid_gap": null,
            "grid_row": null,
            "grid_template_areas": null,
            "grid_template_columns": null,
            "grid_template_rows": null,
            "height": null,
            "justify_content": null,
            "justify_items": null,
            "left": null,
            "margin": null,
            "max_height": null,
            "max_width": null,
            "min_height": null,
            "min_width": null,
            "object_fit": null,
            "object_position": null,
            "order": null,
            "overflow": null,
            "overflow_x": null,
            "overflow_y": null,
            "padding": null,
            "right": null,
            "top": null,
            "visibility": null,
            "width": null
          }
        },
        "75adc7be034743868f428e038e218cff": {
          "model_module": "@jupyter-widgets/controls",
          "model_name": "DescriptionStyleModel",
          "model_module_version": "1.5.0",
          "state": {
            "_model_module": "@jupyter-widgets/controls",
            "_model_module_version": "1.5.0",
            "_model_name": "DescriptionStyleModel",
            "_view_count": null,
            "_view_module": "@jupyter-widgets/base",
            "_view_module_version": "1.2.0",
            "_view_name": "StyleView",
            "description_width": ""
          }
        },
        "858830e30bcc4a798e0405204d0d695d": {
          "model_module": "@jupyter-widgets/base",
          "model_name": "LayoutModel",
          "model_module_version": "1.2.0",
          "state": {
            "_model_module": "@jupyter-widgets/base",
            "_model_module_version": "1.2.0",
            "_model_name": "LayoutModel",
            "_view_count": null,
            "_view_module": "@jupyter-widgets/base",
            "_view_module_version": "1.2.0",
            "_view_name": "LayoutView",
            "align_content": null,
            "align_items": null,
            "align_self": null,
            "border": null,
            "bottom": null,
            "display": null,
            "flex": null,
            "flex_flow": null,
            "grid_area": null,
            "grid_auto_columns": null,
            "grid_auto_flow": null,
            "grid_auto_rows": null,
            "grid_column": null,
            "grid_gap": null,
            "grid_row": null,
            "grid_template_areas": null,
            "grid_template_columns": null,
            "grid_template_rows": null,
            "height": null,
            "justify_content": null,
            "justify_items": null,
            "left": null,
            "margin": null,
            "max_height": null,
            "max_width": null,
            "min_height": null,
            "min_width": null,
            "object_fit": null,
            "object_position": null,
            "order": null,
            "overflow": null,
            "overflow_x": null,
            "overflow_y": null,
            "padding": null,
            "right": null,
            "top": null,
            "visibility": null,
            "width": null
          }
        },
        "30ccdb08307442bb8d508f83a960a3d7": {
          "model_module": "@jupyter-widgets/controls",
          "model_name": "ProgressStyleModel",
          "model_module_version": "1.5.0",
          "state": {
            "_model_module": "@jupyter-widgets/controls",
            "_model_module_version": "1.5.0",
            "_model_name": "ProgressStyleModel",
            "_view_count": null,
            "_view_module": "@jupyter-widgets/base",
            "_view_module_version": "1.2.0",
            "_view_name": "StyleView",
            "bar_color": null,
            "description_width": ""
          }
        },
        "a86b8e8bf01b4e2aa57dd60817cec3bb": {
          "model_module": "@jupyter-widgets/base",
          "model_name": "LayoutModel",
          "model_module_version": "1.2.0",
          "state": {
            "_model_module": "@jupyter-widgets/base",
            "_model_module_version": "1.2.0",
            "_model_name": "LayoutModel",
            "_view_count": null,
            "_view_module": "@jupyter-widgets/base",
            "_view_module_version": "1.2.0",
            "_view_name": "LayoutView",
            "align_content": null,
            "align_items": null,
            "align_self": null,
            "border": null,
            "bottom": null,
            "display": null,
            "flex": null,
            "flex_flow": null,
            "grid_area": null,
            "grid_auto_columns": null,
            "grid_auto_flow": null,
            "grid_auto_rows": null,
            "grid_column": null,
            "grid_gap": null,
            "grid_row": null,
            "grid_template_areas": null,
            "grid_template_columns": null,
            "grid_template_rows": null,
            "height": null,
            "justify_content": null,
            "justify_items": null,
            "left": null,
            "margin": null,
            "max_height": null,
            "max_width": null,
            "min_height": null,
            "min_width": null,
            "object_fit": null,
            "object_position": null,
            "order": null,
            "overflow": null,
            "overflow_x": null,
            "overflow_y": null,
            "padding": null,
            "right": null,
            "top": null,
            "visibility": null,
            "width": null
          }
        },
        "19f9993339c641c2b9f698dfb7d2b714": {
          "model_module": "@jupyter-widgets/controls",
          "model_name": "DescriptionStyleModel",
          "model_module_version": "1.5.0",
          "state": {
            "_model_module": "@jupyter-widgets/controls",
            "_model_module_version": "1.5.0",
            "_model_name": "DescriptionStyleModel",
            "_view_count": null,
            "_view_module": "@jupyter-widgets/base",
            "_view_module_version": "1.2.0",
            "_view_name": "StyleView",
            "description_width": ""
          }
        }
      }
    },
    "accelerator": "GPU"
  },
  "cells": [
    {
      "cell_type": "code",
      "source": [
        "!pip install torch torchvision torchaudio"
      ],
      "metadata": {
        "colab": {
          "base_uri": "https://localhost:8080/"
        },
        "id": "9AaSImenFc8M",
        "outputId": "8c7ca140-ef45-4005-bb06-dde3c7e0129b"
      },
      "execution_count": 1,
      "outputs": [
        {
          "output_type": "stream",
          "name": "stdout",
          "text": [
            "Requirement already satisfied: torch in /usr/local/lib/python3.10/dist-packages (2.4.1+cu121)\n",
            "Requirement already satisfied: torchvision in /usr/local/lib/python3.10/dist-packages (0.19.1+cu121)\n",
            "Requirement already satisfied: torchaudio in /usr/local/lib/python3.10/dist-packages (2.4.1+cu121)\n",
            "Requirement already satisfied: filelock in /usr/local/lib/python3.10/dist-packages (from torch) (3.16.1)\n",
            "Requirement already satisfied: typing-extensions>=4.8.0 in /usr/local/lib/python3.10/dist-packages (from torch) (4.12.2)\n",
            "Requirement already satisfied: sympy in /usr/local/lib/python3.10/dist-packages (from torch) (1.13.3)\n",
            "Requirement already satisfied: networkx in /usr/local/lib/python3.10/dist-packages (from torch) (3.4)\n",
            "Requirement already satisfied: jinja2 in /usr/local/lib/python3.10/dist-packages (from torch) (3.1.4)\n",
            "Requirement already satisfied: fsspec in /usr/local/lib/python3.10/dist-packages (from torch) (2024.6.1)\n",
            "Requirement already satisfied: numpy in /usr/local/lib/python3.10/dist-packages (from torchvision) (1.26.4)\n",
            "Requirement already satisfied: pillow!=8.3.*,>=5.3.0 in /usr/local/lib/python3.10/dist-packages (from torchvision) (10.4.0)\n",
            "Requirement already satisfied: MarkupSafe>=2.0 in /usr/local/lib/python3.10/dist-packages (from jinja2->torch) (3.0.1)\n",
            "Requirement already satisfied: mpmath<1.4,>=1.1.0 in /usr/local/lib/python3.10/dist-packages (from sympy->torch) (1.3.0)\n"
          ]
        }
      ]
    },
    {
      "cell_type": "code",
      "source": [
        "!pip install opacus"
      ],
      "metadata": {
        "colab": {
          "base_uri": "https://localhost:8080/"
        },
        "id": "YQAolC_XFh-i",
        "outputId": "5ebd4631-9169-455c-f04c-3069a1f43530"
      },
      "execution_count": 2,
      "outputs": [
        {
          "output_type": "stream",
          "name": "stdout",
          "text": [
            "Collecting opacus\n",
            "  Downloading opacus-1.5.2-py3-none-any.whl.metadata (7.9 kB)\n",
            "Requirement already satisfied: numpy<2.0,>=1.15 in /usr/local/lib/python3.10/dist-packages (from opacus) (1.26.4)\n",
            "Requirement already satisfied: torch>=2.0 in /usr/local/lib/python3.10/dist-packages (from opacus) (2.4.1+cu121)\n",
            "Requirement already satisfied: scipy>=1.2 in /usr/local/lib/python3.10/dist-packages (from opacus) (1.13.1)\n",
            "Requirement already satisfied: opt-einsum>=3.3.0 in /usr/local/lib/python3.10/dist-packages (from opacus) (3.4.0)\n",
            "Requirement already satisfied: filelock in /usr/local/lib/python3.10/dist-packages (from torch>=2.0->opacus) (3.16.1)\n",
            "Requirement already satisfied: typing-extensions>=4.8.0 in /usr/local/lib/python3.10/dist-packages (from torch>=2.0->opacus) (4.12.2)\n",
            "Requirement already satisfied: sympy in /usr/local/lib/python3.10/dist-packages (from torch>=2.0->opacus) (1.13.3)\n",
            "Requirement already satisfied: networkx in /usr/local/lib/python3.10/dist-packages (from torch>=2.0->opacus) (3.4)\n",
            "Requirement already satisfied: jinja2 in /usr/local/lib/python3.10/dist-packages (from torch>=2.0->opacus) (3.1.4)\n",
            "Requirement already satisfied: fsspec in /usr/local/lib/python3.10/dist-packages (from torch>=2.0->opacus) (2024.6.1)\n",
            "Requirement already satisfied: MarkupSafe>=2.0 in /usr/local/lib/python3.10/dist-packages (from jinja2->torch>=2.0->opacus) (3.0.1)\n",
            "Requirement already satisfied: mpmath<1.4,>=1.1.0 in /usr/local/lib/python3.10/dist-packages (from sympy->torch>=2.0->opacus) (1.3.0)\n",
            "Downloading opacus-1.5.2-py3-none-any.whl (239 kB)\n",
            "\u001b[2K   \u001b[90m━━━━━━━━━━━━━━━━━━━━━━━━━━━━━━━━━━━━━━━━\u001b[0m \u001b[32m239.9/239.9 kB\u001b[0m \u001b[31m6.7 MB/s\u001b[0m eta \u001b[36m0:00:00\u001b[0m\n",
            "\u001b[?25hInstalling collected packages: opacus\n",
            "Successfully installed opacus-1.5.2\n"
          ]
        }
      ]
    },
    {
      "cell_type": "code",
      "execution_count": 3,
      "metadata": {
        "id": "OXx2SksCFVXv"
      },
      "outputs": [],
      "source": [
        "import warnings\n",
        "warnings.simplefilter(\"ignore\")\n",
        "\n",
        "#MAX_GRAD_NORM = 1.2\n",
        "EPSILON = 3.0\n",
        "DELTA = 1e-5\n",
        "EPOCHS = 15\n",
        "\n",
        "#Adaptive Clipping\n",
        "initial_clip_norm = 1.0\n",
        "eta_C = 0.2  # Learning rate for updating the clipping norm\n",
        "target_quantile = 0.5  # Target quantile, e.g., 0.5 for the median\n",
        "\n",
        "LR = 1e-3"
      ]
    },
    {
      "cell_type": "code",
      "source": [
        "BATCH_SIZE = 512\n",
        "MAX_PHYSICAL_BATCH_SIZE = 128"
      ],
      "metadata": {
        "id": "-pcI3wYLFnoW"
      },
      "execution_count": 4,
      "outputs": []
    },
    {
      "cell_type": "code",
      "source": [
        "import torch\n",
        "import torchvision\n",
        "import torchvision.transforms as transforms\n",
        "\n",
        "# These values, specific to the CIFAR10 dataset, are assumed to be known.\n",
        "# If necessary, they can be computed with modest privacy budgets.\n",
        "CIFAR10_MEAN = (0.4914, 0.4822, 0.4465)\n",
        "CIFAR10_STD_DEV = (0.2023, 0.1994, 0.2010)\n",
        "\n",
        "transform = transforms.Compose([\n",
        "    transforms.ToTensor(),\n",
        "    transforms.Normalize(CIFAR10_MEAN, CIFAR10_STD_DEV),\n",
        "])"
      ],
      "metadata": {
        "id": "PBbPBCZGFpb-"
      },
      "execution_count": 5,
      "outputs": []
    },
    {
      "cell_type": "code",
      "source": [
        "from torchvision.datasets import CIFAR10\n",
        "\n",
        "DATA_ROOT = '../cifar10'\n",
        "\n",
        "train_dataset = CIFAR10(\n",
        "    root=DATA_ROOT, train=True, download=True, transform=transform)\n",
        "\n",
        "train_loader = torch.utils.data.DataLoader(\n",
        "    train_dataset,\n",
        "    batch_size=BATCH_SIZE,\n",
        ")\n",
        "\n",
        "test_dataset = CIFAR10(\n",
        "    root=DATA_ROOT, train=False, download=True, transform=transform)\n",
        "\n",
        "test_loader = torch.utils.data.DataLoader(\n",
        "    test_dataset,\n",
        "    batch_size=BATCH_SIZE,\n",
        "    shuffle=False,\n",
        ")"
      ],
      "metadata": {
        "colab": {
          "base_uri": "https://localhost:8080/"
        },
        "id": "ycYpgyoVFs1T",
        "outputId": "a3492fa3-d8c8-4154-acba-3ffdc95ebacf"
      },
      "execution_count": 7,
      "outputs": [
        {
          "output_type": "stream",
          "name": "stdout",
          "text": [
            "Files already downloaded and verified\n",
            "Files already downloaded and verified\n"
          ]
        }
      ]
    },
    {
      "cell_type": "markdown",
      "source": [
        "### **ResNet-n from torch**"
      ],
      "metadata": {
        "id": "Drv5qY6OKqjk"
      }
    },
    {
      "cell_type": "code",
      "source": [
        "from torchvision import models"
      ],
      "metadata": {
        "id": "UeAejaeyFvJR"
      },
      "execution_count": null,
      "outputs": []
    },
    {
      "cell_type": "markdown",
      "source": [
        "### **ResNet20 (with Adaptive Clipping)**"
      ],
      "metadata": {
        "id": "lYm-LBfyKdIG"
      }
    },
    {
      "cell_type": "code",
      "source": [
        "import torch\n",
        "import torch.nn as nn\n",
        "import torch.nn.functional as F"
      ],
      "metadata": {
        "id": "rWZ9TeOnJcd6"
      },
      "execution_count": 8,
      "outputs": []
    },
    {
      "cell_type": "code",
      "source": [
        "class BasicBlock(nn.Module):\n",
        "    def __init__(self, in_channels, out_channels, stride=1, num_groups=32):\n",
        "        super(BasicBlock, self).__init__()\n",
        "        # First convolutional layer\n",
        "        self.conv1 = nn.Conv2d(in_channels, out_channels, kernel_size=3, stride=stride, padding=1, bias=False)\n",
        "        self.gn1 = nn.GroupNorm(num_groups, out_channels)  #GroupNorm for DP compatability\n",
        "        # Second convolutional layer\n",
        "        self.conv2 = nn.Conv2d(out_channels, out_channels, kernel_size=3, stride=1, padding=1, bias=False)\n",
        "        self.gn2 = nn.GroupNorm(num_groups, out_channels)  #GroupNorm for DP compatability\n",
        "        # Skip connection\n",
        "        self.shortcut = nn.Sequential()\n",
        "        if stride != 1 or in_channels != out_channels:\n",
        "            self.shortcut = nn.Sequential(\n",
        "                nn.Conv2d(in_channels, out_channels, kernel_size=1, stride=stride, bias=False),\n",
        "                nn.GroupNorm(num_groups, out_channels)  #GroupNorm for DP compatability\n",
        "            )\n",
        "\n",
        "    def forward(self, x):\n",
        "        out = F.relu(self.gn1(self.conv1(x)))\n",
        "        out = self.gn2(self.conv2(out))\n",
        "        out += self.shortcut(x)\n",
        "        out = F.relu(out)\n",
        "        return out\n",
        "\n",
        "class ResNet20(nn.Module):\n",
        "    def __init__(self, num_classes=10, num_groups=32):\n",
        "        super(ResNet20, self).__init__()\n",
        "        self.in_channels = 16\n",
        "        # Initial convolutional layer\n",
        "        self.conv1 = nn.Conv2d(3, self.in_channels, kernel_size=3, stride=1, padding=1, bias=False)\n",
        "        self.gn1 = nn.GroupNorm(num_groups, self.in_channels)  #GroupNorm for DP compatability\n",
        "        # Residual blocks\n",
        "        self.layer1 = self._make_layer(16, 3, stride=1, num_groups=num_groups)\n",
        "        self.layer2 = self._make_layer(32, 3, stride=2, num_groups=num_groups)\n",
        "        self.layer3 = self._make_layer(64, 3, stride=2, num_groups=num_groups)\n",
        "        # Fully connected layer\n",
        "        self.fc = nn.Linear(64, num_classes)\n",
        "\n",
        "    def _make_layer(self, out_channels, num_blocks, stride, num_groups):\n",
        "        layers = []\n",
        "        for _ in range(num_blocks):\n",
        "            layers.append(BasicBlock(self.in_channels, out_channels, stride, num_groups=num_groups))\n",
        "            self.in_channels = out_channels\n",
        "            stride = 1  #Only the first block in each layer has a stride of 2\n",
        "        return nn.Sequential(*layers)\n",
        "\n",
        "    def forward(self, x):\n",
        "        out = F.relu(self.gn1(self.conv1(x)))\n",
        "        out = self.layer1(out)\n",
        "        out = self.layer2(out)\n",
        "        out = self.layer3(out)\n",
        "        out = F.avg_pool2d(out, 8)\n",
        "        out = out.view(out.size(0), -1)\n",
        "        out = self.fc(out)\n",
        "        return out\n",
        "\n",
        "    #Adaptive Clipping\n",
        "    def calculate_avg_grad_norm(model):\n",
        "        total_norm = 0.0\n",
        "        total_params = 0\n",
        "        for p in model.parameters():\n",
        "            if p.grad is not None:\n",
        "                param_norm = p.grad.data.norm(2).item()\n",
        "                total_norm += param_norm ** 2\n",
        "                total_params += 1\n",
        "        avg_grad_norm = (total_norm / total_params) ** 0.5\n",
        "        return avg_grad_norm\n",
        "\n",
        "    #Grouped Gradient Clipping\n",
        "    '''\n",
        "    def clip_gradients_by_group(model, max_grad_norms):\n",
        "        \"\"\"Clip gradients by group of layers, based on the provided max_grad_norms list.\"\"\"\n",
        "        group_gradients = [[], []]  # Adjust the number of groups as necessary\n",
        "\n",
        "        # Group 1: Convolutional layers\n",
        "        group_gradients[0].extend([p for name, p in model.named_parameters() if 'conv' in name])\n",
        "\n",
        "        # Group 2: Fully connected layers\n",
        "        group_gradients[1].extend([p for name, p in model.named_parameters() if 'fc' in name])\n",
        "\n",
        "        # Clip gradients per group\n",
        "        for group, max_norm in zip(group_gradients, max_grad_norms):\n",
        "            total_norm = torch.norm(torch.stack([torch.norm(p.grad) for p in group if p.grad is not None]), 2)\n",
        "            clip_coef = max_norm / (total_norm + 1e-6)\n",
        "            if clip_coef < 1:\n",
        "                for p in group:\n",
        "                    if p.grad is not None:\n",
        "                        p.grad.mul_(clip_coef)\n",
        "    '''"
      ],
      "metadata": {
        "id": "rhpRnIcOL80C"
      },
      "execution_count": 9,
      "outputs": []
    },
    {
      "cell_type": "markdown",
      "source": [
        "### Model Assignment"
      ],
      "metadata": {
        "id": "DvtegZm1XY3F"
      }
    },
    {
      "cell_type": "code",
      "source": [
        "#model = models.resnet18(num_classes=10)\n",
        "model = ResNet20(num_classes=10, num_groups=4)"
      ],
      "metadata": {
        "id": "Rd7j9ehaK0yh"
      },
      "execution_count": 10,
      "outputs": []
    },
    {
      "cell_type": "code",
      "source": [
        "from opacus.validators import ModuleValidator\n",
        "\n",
        "errors = ModuleValidator.validate(model, strict=False)\n",
        "errors[-5:]"
      ],
      "metadata": {
        "colab": {
          "base_uri": "https://localhost:8080/"
        },
        "id": "Kmb1UL1OFycC",
        "outputId": "b13a8f39-a941-47e4-ef63-2cbcb2da9f2a"
      },
      "execution_count": 11,
      "outputs": [
        {
          "output_type": "execute_result",
          "data": {
            "text/plain": [
              "[]"
            ]
          },
          "metadata": {},
          "execution_count": 11
        }
      ]
    },
    {
      "cell_type": "code",
      "source": [
        "model = ModuleValidator.fix(model)\n",
        "ModuleValidator.validate(model, strict=False)"
      ],
      "metadata": {
        "colab": {
          "base_uri": "https://localhost:8080/"
        },
        "id": "CORRbNMzF3GO",
        "outputId": "6da1f4d7-b843-4539-d384-d9b5c8a017dc"
      },
      "execution_count": 12,
      "outputs": [
        {
          "output_type": "execute_result",
          "data": {
            "text/plain": [
              "[]"
            ]
          },
          "metadata": {},
          "execution_count": 12
        }
      ]
    },
    {
      "cell_type": "code",
      "source": [
        "device = torch.device(\"cuda\" if torch.cuda.is_available() else \"cpu\")\n",
        "\n",
        "model = model.to(device)"
      ],
      "metadata": {
        "id": "2aiLjxaJF7NM"
      },
      "execution_count": 13,
      "outputs": []
    },
    {
      "cell_type": "code",
      "source": [
        "import torch.nn as nn\n",
        "import torch.optim as optim\n",
        "\n",
        "criterion = nn.CrossEntropyLoss()\n",
        "optimizer = optim.RMSprop(model.parameters(), lr=LR)"
      ],
      "metadata": {
        "id": "MPyD5vJiF8nJ"
      },
      "execution_count": 14,
      "outputs": []
    },
    {
      "cell_type": "code",
      "source": [
        "def accuracy(preds, labels):\n",
        "    return (preds == labels).mean()"
      ],
      "metadata": {
        "id": "uBBTGgtvF_wA"
      },
      "execution_count": 15,
      "outputs": []
    },
    {
      "cell_type": "code",
      "source": [
        "from opacus import PrivacyEngine\n",
        "\n",
        "privacy_engine = PrivacyEngine()\n",
        "\n",
        "model, optimizer, train_loader = privacy_engine.make_private_with_epsilon(\n",
        "    module=model,\n",
        "    optimizer=optimizer,\n",
        "    data_loader=train_loader,\n",
        "    epochs=EPOCHS,\n",
        "    target_epsilon=EPSILON,\n",
        "    target_delta=DELTA,\n",
        "    max_grad_norm=1.0,  #Starting with grad norm as 1 and adjusting it during training according to the specific quantile of the gradient norm distribution\n",
        ")\n",
        "\n",
        "print(f\"Using sigma={optimizer.noise_multiplier} and C=1.0\")"
      ],
      "metadata": {
        "colab": {
          "base_uri": "https://localhost:8080/"
        },
        "id": "1Sfq362zGDvM",
        "outputId": "7e71c54b-efc1-4739-b827-9cc3e61c125c"
      },
      "execution_count": 16,
      "outputs": [
        {
          "output_type": "stream",
          "name": "stdout",
          "text": [
            "Using sigma=0.880126953125 and C=1.0\n"
          ]
        }
      ]
    },
    {
      "cell_type": "code",
      "source": [
        "def adaptive_clipping(grad_norms, clip_norm, target_quantile, eta_C):   #Adjusts the clipping norm using geometric updates to match a target quantile.\n",
        "    #Calculate the fraction of gradients below the current clip norm\n",
        "    clipped_fraction = np.mean(grad_norms <= clip_norm)\n",
        "\n",
        "    #Update the clipping norm\n",
        "    new_clip_norm = clip_norm * np.exp(-eta_C * (clipped_fraction - target_quantile))\n",
        "    return new_clip_norm\n",
        "\n",
        "def calculate_grad_norms(model):    #Calculates the L2 norm of gradients for each parameter in the model.\n",
        "    grad_norms = []\n",
        "    for p in model.parameters():\n",
        "        if p.grad is not None:\n",
        "            grad_norms.append(p.grad.data.norm(2).item())\n",
        "    return np.array(grad_norms)"
      ],
      "metadata": {
        "id": "sOOFvY06jHDb"
      },
      "execution_count": 22,
      "outputs": []
    },
    {
      "cell_type": "code",
      "source": [
        "import numpy as np\n",
        "from opacus.utils.batch_memory_manager import BatchMemoryManager\n",
        "\n",
        "def train(model, train_loader, optimizer, epoch, device):\n",
        "    model.train()\n",
        "    criterion = nn.CrossEntropyLoss()\n",
        "\n",
        "    losses = []\n",
        "    top1_acc = []\n",
        "    clip_norm = initial_clip_norm  #Start with an initial clip norm\n",
        "\n",
        "    with BatchMemoryManager(\n",
        "        data_loader=train_loader,\n",
        "        max_physical_batch_size=MAX_PHYSICAL_BATCH_SIZE,\n",
        "        optimizer=optimizer\n",
        "    ) as memory_safe_data_loader:\n",
        "\n",
        "        for i, (images, target) in enumerate(memory_safe_data_loader):\n",
        "            optimizer.zero_grad()\n",
        "            images = images.to(device)\n",
        "            target = target.to(device)\n",
        "\n",
        "            #compute output\n",
        "            output = model(images)\n",
        "            loss = criterion(output, target)\n",
        "\n",
        "            preds = np.argmax(output.detach().cpu().numpy(), axis=1)\n",
        "            labels = target.detach().cpu().numpy()\n",
        "\n",
        "            #measure accuracy and record loss\n",
        "            acc = accuracy(preds, labels)\n",
        "\n",
        "            losses.append(loss.item())\n",
        "            top1_acc.append(acc)\n",
        "\n",
        "            loss.backward()\n",
        "\n",
        "            #Adaptive Clipping\n",
        "            #Calculate gradient norms for the current batch\n",
        "            grad_norms = calculate_grad_norms(model)\n",
        "            #Update the clipping norm based on gradient norms\n",
        "            clip_norm = adaptive_clipping(grad_norms, clip_norm, target_quantile, eta_C)\n",
        "            #Clip gradients to the updated norm\n",
        "            torch.nn.utils.clip_grad_norm_(model.parameters(), clip_norm)\n",
        "\n",
        "            #Grouped Gradient Clipping\n",
        "            '''\n",
        "            clip_gradients_by_group(model, grouped_clipping_norms)\n",
        "            '''\n",
        "\n",
        "            optimizer.step()\n",
        "\n",
        "            if (i+1) % 200 == 0:\n",
        "                epsilon = privacy_engine.get_epsilon(DELTA)\n",
        "                print(\n",
        "                    f\"\\tTrain Epoch: {epoch} \\t\"\n",
        "                    f\"Loss: {np.mean(losses):.6f} \"\n",
        "                    f\"Acc@1: {np.mean(top1_acc) * 100:.6f} \"\n",
        "                    f\"(ε = {epsilon:.2f}, δ = {DELTA})\"\n",
        "                )"
      ],
      "metadata": {
        "id": "pwnw-AeZGEfw"
      },
      "execution_count": 23,
      "outputs": []
    },
    {
      "cell_type": "code",
      "source": [
        "def test(model, test_loader, device):\n",
        "    model.eval()\n",
        "    criterion = nn.CrossEntropyLoss()\n",
        "    losses = []\n",
        "    top1_acc = []\n",
        "\n",
        "    with torch.no_grad():\n",
        "        for images, target in test_loader:\n",
        "            images = images.to(device)\n",
        "            target = target.to(device)\n",
        "\n",
        "            output = model(images)\n",
        "            loss = criterion(output, target)\n",
        "            preds = np.argmax(output.detach().cpu().numpy(), axis=1)\n",
        "            labels = target.detach().cpu().numpy()\n",
        "            acc = accuracy(preds, labels)\n",
        "\n",
        "            losses.append(loss.item())\n",
        "            top1_acc.append(acc)\n",
        "\n",
        "    top1_avg = np.mean(top1_acc)\n",
        "\n",
        "    print(\n",
        "        f\"\\tTest set:\"\n",
        "        f\"Loss: {np.mean(losses):.6f} \"\n",
        "        f\"Acc: {top1_avg * 100:.6f} \"\n",
        "    )\n",
        "    return np.mean(top1_acc)"
      ],
      "metadata": {
        "id": "LIeFSlNWGIEn"
      },
      "execution_count": 19,
      "outputs": []
    },
    {
      "cell_type": "code",
      "source": [
        "from tqdm.notebook import tqdm\n",
        "\n",
        "for epoch in tqdm(range(EPOCHS), desc=\"Epoch\", unit=\"epoch\"):\n",
        "    train(model, train_loader, optimizer, epoch + 1, device)"
      ],
      "metadata": {
        "colab": {
          "base_uri": "https://localhost:8080/",
          "height": 600,
          "referenced_widgets": [
            "09554510067c4c3ead8e9e33b7d7a929",
            "5abbfb6fce5346eba2665d517b355f67",
            "9b2414f0e64a4717a068c577dc3b7874",
            "17643083f48d4405a88a85540275730b",
            "7f8c33e673044e289e7f91de8bce9f48",
            "07ab1a8664cd4aafb572d27c4da441dd",
            "75adc7be034743868f428e038e218cff",
            "858830e30bcc4a798e0405204d0d695d",
            "30ccdb08307442bb8d508f83a960a3d7",
            "a86b8e8bf01b4e2aa57dd60817cec3bb",
            "19f9993339c641c2b9f698dfb7d2b714"
          ]
        },
        "id": "GMzFi558GLoE",
        "outputId": "7af2e7dc-17ac-4ac1-c088-8669668038ba"
      },
      "execution_count": 20,
      "outputs": [
        {
          "output_type": "display_data",
          "data": {
            "text/plain": [
              "Epoch:   0%|          | 0/15 [00:00<?, ?epoch/s]"
            ],
            "application/vnd.jupyter.widget-view+json": {
              "version_major": 2,
              "version_minor": 0,
              "model_id": "09554510067c4c3ead8e9e33b7d7a929"
            }
          },
          "metadata": {}
        },
        {
          "output_type": "stream",
          "name": "stdout",
          "text": [
            "\tTrain Epoch: 1 \tLoss: 2.298031 Acc@1: 14.831012 (ε = 0.92, δ = 1e-05)\n",
            "\tTrain Epoch: 1 \tLoss: 2.225150 Acc@1: 17.479294 (ε = 1.09, δ = 1e-05)\n",
            "\tTrain Epoch: 2 \tLoss: 2.001596 Acc@1: 26.420454 (ε = 1.23, δ = 1e-05)\n",
            "\tTrain Epoch: 2 \tLoss: 1.969466 Acc@1: 27.713638 (ε = 1.33, δ = 1e-05)\n",
            "\tTrain Epoch: 3 \tLoss: 1.898387 Acc@1: 30.865305 (ε = 1.44, δ = 1e-05)\n",
            "\tTrain Epoch: 3 \tLoss: 1.882397 Acc@1: 31.569972 (ε = 1.53, δ = 1e-05)\n",
            "\tTrain Epoch: 4 \tLoss: 1.836219 Acc@1: 34.134711 (ε = 1.62, δ = 1e-05)\n",
            "\tTrain Epoch: 4 \tLoss: 1.836828 Acc@1: 34.427955 (ε = 1.69, δ = 1e-05)\n",
            "\tTrain Epoch: 5 \tLoss: 1.788094 Acc@1: 35.990456 (ε = 1.78, δ = 1e-05)\n",
            "\tTrain Epoch: 5 \tLoss: 1.788541 Acc@1: 36.726502 (ε = 1.85, δ = 1e-05)\n",
            "\tTrain Epoch: 6 \tLoss: 1.777905 Acc@1: 37.449726 (ε = 1.92, δ = 1e-05)\n",
            "\tTrain Epoch: 6 \tLoss: 1.776792 Acc@1: 37.633001 (ε = 1.99, δ = 1e-05)\n",
            "\tTrain Epoch: 7 \tLoss: 1.768649 Acc@1: 39.063720 (ε = 2.06, δ = 1e-05)\n",
            "\tTrain Epoch: 7 \tLoss: 1.760134 Acc@1: 39.403251 (ε = 2.12, δ = 1e-05)\n",
            "\tTrain Epoch: 8 \tLoss: 1.781266 Acc@1: 39.214476 (ε = 2.19, δ = 1e-05)\n",
            "\tTrain Epoch: 8 \tLoss: 1.765644 Acc@1: 39.807813 (ε = 2.24, δ = 1e-05)\n",
            "\tTrain Epoch: 9 \tLoss: 1.748788 Acc@1: 41.017025 (ε = 2.31, δ = 1e-05)\n",
            "\tTrain Epoch: 9 \tLoss: 1.748039 Acc@1: 41.209253 (ε = 2.36, δ = 1e-05)\n",
            "\tTrain Epoch: 10 \tLoss: 1.763819 Acc@1: 41.828744 (ε = 2.43, δ = 1e-05)\n",
            "\tTrain Epoch: 10 \tLoss: 1.772292 Acc@1: 41.691803 (ε = 2.48, δ = 1e-05)\n",
            "\tTrain Epoch: 11 \tLoss: 1.740199 Acc@1: 42.593917 (ε = 2.54, δ = 1e-05)\n",
            "\tTrain Epoch: 11 \tLoss: 1.737229 Acc@1: 43.146317 (ε = 2.59, δ = 1e-05)\n",
            "\tTrain Epoch: 12 \tLoss: 1.773225 Acc@1: 42.950786 (ε = 2.64, δ = 1e-05)\n",
            "\tTrain Epoch: 12 \tLoss: 1.757972 Acc@1: 43.318528 (ε = 2.69, δ = 1e-05)\n",
            "\tTrain Epoch: 13 \tLoss: 1.746947 Acc@1: 43.989446 (ε = 2.75, δ = 1e-05)\n",
            "\tTrain Epoch: 13 \tLoss: 1.740257 Acc@1: 44.412123 (ε = 2.79, δ = 1e-05)\n",
            "\tTrain Epoch: 14 \tLoss: 1.740692 Acc@1: 45.060722 (ε = 2.85, δ = 1e-05)\n",
            "\tTrain Epoch: 14 \tLoss: 1.754696 Acc@1: 44.853737 (ε = 2.89, δ = 1e-05)\n",
            "\tTrain Epoch: 15 \tLoss: 1.700667 Acc@1: 45.985073 (ε = 2.95, δ = 1e-05)\n",
            "\tTrain Epoch: 15 \tLoss: 1.727458 Acc@1: 45.658293 (ε = 2.99, δ = 1e-05)\n"
          ]
        }
      ]
    },
    {
      "cell_type": "code",
      "source": [
        "top1_acc = test(model, test_loader, device)"
      ],
      "metadata": {
        "id": "QqmRoFktGQ-d",
        "colab": {
          "base_uri": "https://localhost:8080/"
        },
        "outputId": "6eecb249-b902-4c38-e3fb-35c6f79ef3ac"
      },
      "execution_count": 21,
      "outputs": [
        {
          "output_type": "stream",
          "name": "stdout",
          "text": [
            "\tTest set:Loss: 1.735271 Acc: 46.945657 \n"
          ]
        }
      ]
    }
  ]
}
